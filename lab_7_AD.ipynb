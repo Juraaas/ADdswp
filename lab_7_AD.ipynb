{
  "nbformat": 4,
  "nbformat_minor": 0,
  "metadata": {
    "colab": {
      "provenance": []
    },
    "kernelspec": {
      "name": "python3",
      "display_name": "Python 3"
    },
    "language_info": {
      "name": "python"
    }
  },
  "cells": [
    {
      "cell_type": "code",
      "execution_count": 1,
      "metadata": {
        "id": "LZm5Hiov3A5L"
      },
      "outputs": [],
      "source": [
        "from pyspark.sql import SparkSession\n",
        "\n",
        "warehouse_location = '/opt/spark/work-dir/lab_07/metastore_db'\n",
        "\n",
        "spark = SparkSession \\\n",
        "        .builder \\\n",
        "        .master(\"local[*]\") \\\n",
        "        .appName(\"lab7\") \\\n",
        "        .config(\"spark.memory.offHeap.enabled\", \"true\") \\\n",
        "        .config(\"spark.memory.offHeap.size\", \"4g\") \\\n",
        "        .enableHiveSupport() \\\n",
        "        .config(\"spark.sql.warehouse.dir\", warehouse_location) \\\n",
        "        .getOrCreate()"
      ]
    },
    {
      "cell_type": "code",
      "source": [
        "!wget https://raw.githubusercontent.com/kropiak/uwm_analiza_duzych_zbiorow/refs/heads/main/lab_07/zamowienia.txt"
      ],
      "metadata": {
        "colab": {
          "base_uri": "https://localhost:8080/"
        },
        "id": "6XsMXVec3DSb",
        "outputId": "e471e7df-3d45-4636-a381-ce4e981dda03"
      },
      "execution_count": 2,
      "outputs": [
        {
          "output_type": "stream",
          "name": "stdout",
          "text": [
            "--2024-11-25 15:51:53--  https://raw.githubusercontent.com/kropiak/uwm_analiza_duzych_zbiorow/refs/heads/main/lab_07/zamowienia.txt\n",
            "Resolving raw.githubusercontent.com (raw.githubusercontent.com)... 185.199.108.133, 185.199.109.133, 185.199.110.133, ...\n",
            "Connecting to raw.githubusercontent.com (raw.githubusercontent.com)|185.199.108.133|:443... connected.\n",
            "HTTP request sent, awaiting response... 200 OK\n",
            "Length: 35312 (34K) [text/plain]\n",
            "Saving to: ‘zamowienia.txt.1’\n",
            "\n",
            "zamowienia.txt.1    100%[===================>]  34.48K  --.-KB/s    in 0.05s   \n",
            "\n",
            "2024-11-25 15:51:54 (760 KB/s) - ‘zamowienia.txt.1’ saved [35312/35312]\n",
            "\n"
          ]
        }
      ]
    },
    {
      "cell_type": "code",
      "source": [
        "df = spark.read.option(\"delimiter\", \";\").csv('zamowienia.txt', header=True, inferSchema=True)\n",
        "\n",
        "df.show(5)"
      ],
      "metadata": {
        "colab": {
          "base_uri": "https://localhost:8080/"
        },
        "id": "OEXp3Lt44bYJ",
        "outputId": "35efdaeb-b85a-48e5-ff95-cdc7c614c85e"
      },
      "execution_count": 3,
      "outputs": [
        {
          "output_type": "stream",
          "name": "stdout",
          "text": [
            "+------+----------+---------------+------------+-----------+\n",
            "|  Kraj|Sprzedawca|Data zamowienia|idZamowienia|      Utarg|\n",
            "+------+----------+---------------+------------+-----------+\n",
            "|Polska|  Kowalski|     16.07.2003|       10248|  440,00 z|\n",
            "|Polska|  Sowiäski|     10.07.2003|       10249|1 863,40 z|\n",
            "|Niemcy|   Peacock|     12.07.2003|       10250|1 552,60 z|\n",
            "|Niemcy| Leverling|     15.07.2003|       10251|  654,06 z|\n",
            "|Niemcy|   Peacock|     11.07.2003|       10252|3 597,90 z|\n",
            "+------+----------+---------------+------------+-----------+\n",
            "only showing top 5 rows\n",
            "\n"
          ]
        }
      ]
    },
    {
      "cell_type": "code",
      "source": [
        "from pyspark.sql.functions import col, regexp_replace\n",
        "df = df.withColumn(\"Sprzedawca\", regexp_replace(col(\"Sprzedawca\"), \"ä\", \"a\"))\n",
        "\n",
        "df.show(5)"
      ],
      "metadata": {
        "colab": {
          "base_uri": "https://localhost:8080/"
        },
        "id": "Bk8mGM6I-_J3",
        "outputId": "2b17c72e-48ee-408f-f139-3043e48c8b4b"
      },
      "execution_count": 4,
      "outputs": [
        {
          "output_type": "stream",
          "name": "stdout",
          "text": [
            "+------+----------+---------------+------------+-----------+\n",
            "|  Kraj|Sprzedawca|Data zamowienia|idZamowienia|      Utarg|\n",
            "+------+----------+---------------+------------+-----------+\n",
            "|Polska|  Kowalski|     16.07.2003|       10248|  440,00 z|\n",
            "|Polska|  Sowiaski|     10.07.2003|       10249|1 863,40 z|\n",
            "|Niemcy|   Peacock|     12.07.2003|       10250|1 552,60 z|\n",
            "|Niemcy| Leverling|     15.07.2003|       10251|  654,06 z|\n",
            "|Niemcy|   Peacock|     11.07.2003|       10252|3 597,90 z|\n",
            "+------+----------+---------------+------------+-----------+\n",
            "only showing top 5 rows\n",
            "\n"
          ]
        }
      ]
    },
    {
      "cell_type": "code",
      "source": [
        "from pyspark.sql import functions as F\n",
        "\n",
        "df = df.withColumn(\"Utarg\", F.regexp_replace(F.col(\"Utarg\"), \" z\", \"\"))\n",
        "df = df.withColumn(\"Utarg\", F.regexp_replace(F.col(\"Utarg\"), r\"\\s+\", \"\"))\n",
        "df = df.withColumn(\"Utarg\", F.regexp_replace(F.col(\"Utarg\"), \",\", \".\"))\n",
        "df = df.withColumn(\"Utarg\", F.col(\"Utarg\").cast(\"float\"))\n",
        "\n",
        "df.show(5, truncate=False)"
      ],
      "metadata": {
        "colab": {
          "base_uri": "https://localhost:8080/"
        },
        "id": "bbRJpaYc_OD5",
        "outputId": "e1491068-507a-4366-e0d0-a0026b03f4de"
      },
      "execution_count": 6,
      "outputs": [
        {
          "output_type": "stream",
          "name": "stdout",
          "text": [
            "+------+----------+---------------+------------+------+\n",
            "|Kraj  |Sprzedawca|Data zamowienia|idZamowienia|Utarg |\n",
            "+------+----------+---------------+------------+------+\n",
            "|Polska|Kowalski  |16.07.2003     |10248       |440.0 |\n",
            "|Polska|Sowiaski  |10.07.2003     |10249       |1863.4|\n",
            "|Niemcy|Peacock   |12.07.2003     |10250       |1552.6|\n",
            "|Niemcy|Leverling |15.07.2003     |10251       |654.06|\n",
            "|Niemcy|Peacock   |11.07.2003     |10252       |3597.9|\n",
            "+------+----------+---------------+------------+------+\n",
            "only showing top 5 rows\n",
            "\n"
          ]
        }
      ]
    },
    {
      "cell_type": "code",
      "source": [
        "df.printSchema()"
      ],
      "metadata": {
        "colab": {
          "base_uri": "https://localhost:8080/"
        },
        "id": "lANWh5OjC9fN",
        "outputId": "79242777-b14c-48b9-8941-d87bbd878f33"
      },
      "execution_count": 7,
      "outputs": [
        {
          "output_type": "stream",
          "name": "stdout",
          "text": [
            "root\n",
            " |-- Kraj: string (nullable = true)\n",
            " |-- Sprzedawca: string (nullable = true)\n",
            " |-- Data zamowienia: string (nullable = true)\n",
            " |-- idZamowienia: integer (nullable = true)\n",
            " |-- Utarg: float (nullable = true)\n",
            "\n"
          ]
        }
      ]
    },
    {
      "cell_type": "code",
      "source": [
        "from pyspark.sql.functions import to_date\n",
        "\n",
        "df = df.withColumn(\"Data zamowienia\", to_date(df[\"Data zamowienia\"], \"dd.mm.yyyy\"))\n",
        "\n",
        "df.printSchema()\n",
        "df.show(5)"
      ],
      "metadata": {
        "colab": {
          "base_uri": "https://localhost:8080/"
        },
        "id": "6jXYttqqDAD1",
        "outputId": "abcdaf82-f670-4920-de45-09dc9ef585ed"
      },
      "execution_count": 10,
      "outputs": [
        {
          "output_type": "stream",
          "name": "stdout",
          "text": [
            "root\n",
            " |-- Kraj: string (nullable = true)\n",
            " |-- Sprzedawca: string (nullable = true)\n",
            " |-- Data zamowienia: date (nullable = true)\n",
            " |-- idZamowienia: integer (nullable = true)\n",
            " |-- Utarg: float (nullable = true)\n",
            "\n",
            "+------+----------+---------------+------------+------+\n",
            "|  Kraj|Sprzedawca|Data zamowienia|idZamowienia| Utarg|\n",
            "+------+----------+---------------+------------+------+\n",
            "|Polska|  Kowalski|     2003-01-16|       10248| 440.0|\n",
            "|Polska|  Sowiaski|     2003-01-10|       10249|1863.4|\n",
            "|Niemcy|   Peacock|     2003-01-12|       10250|1552.6|\n",
            "|Niemcy| Leverling|     2003-01-15|       10251|654.06|\n",
            "|Niemcy|   Peacock|     2003-01-11|       10252|3597.9|\n",
            "+------+----------+---------------+------------+------+\n",
            "only showing top 5 rows\n",
            "\n"
          ]
        }
      ]
    },
    {
      "cell_type": "code",
      "source": [
        "df = df.sort(\"idZamowienia\")\n",
        "\n",
        "df.show(5)\n",
        "df.printSchema()"
      ],
      "metadata": {
        "colab": {
          "base_uri": "https://localhost:8080/"
        },
        "id": "b7k7uWF2DmVh",
        "outputId": "d7f9a963-826f-4271-f04c-40be319d342d"
      },
      "execution_count": 11,
      "outputs": [
        {
          "output_type": "stream",
          "name": "stdout",
          "text": [
            "+------+----------+---------------+------------+------+\n",
            "|  Kraj|Sprzedawca|Data zamowienia|idZamowienia| Utarg|\n",
            "+------+----------+---------------+------------+------+\n",
            "|Polska|  Kowalski|     2003-01-16|       10248| 440.0|\n",
            "|Polska|  Sowiaski|     2003-01-10|       10249|1863.4|\n",
            "|Niemcy|   Peacock|     2003-01-12|       10250|1552.6|\n",
            "|Niemcy| Leverling|     2003-01-15|       10251|654.06|\n",
            "|Niemcy|   Peacock|     2003-01-11|       10252|3597.9|\n",
            "+------+----------+---------------+------------+------+\n",
            "only showing top 5 rows\n",
            "\n",
            "root\n",
            " |-- Kraj: string (nullable = true)\n",
            " |-- Sprzedawca: string (nullable = true)\n",
            " |-- Data zamowienia: date (nullable = true)\n",
            " |-- idZamowienia: integer (nullable = true)\n",
            " |-- Utarg: float (nullable = true)\n",
            "\n"
          ]
        }
      ]
    },
    {
      "cell_type": "code",
      "source": [
        "buckets = df.repartition(4, \"idZamowienia\")\n",
        "buckets.cache()\n",
        "\n",
        "import time\n",
        "start = time.time()\n",
        "df.groupBy(\"Kraj\").sum(\"Utarg\").show()\n",
        "print(f\"Czas agregacji bez wiaderkowania: {time.time() - start:.2f} sekund\")\n",
        "\n",
        "start = time.time()\n",
        "buckets.groupBy(\"Kraj\").sum(\"Utarg\").show()\n",
        "print(f\"Czas agregacji na wiaderkach: {time.time() - start:.2f} sekund\")"
      ],
      "metadata": {
        "colab": {
          "base_uri": "https://localhost:8080/"
        },
        "id": "9cQIyoObHhiV",
        "outputId": "3b68eaeb-c9c0-4369-dc32-081ee7ec3298"
      },
      "execution_count": 17,
      "outputs": [
        {
          "output_type": "stream",
          "name": "stdout",
          "text": [
            "+------+-----------------+\n",
            "|  Kraj|       sum(Utarg)|\n",
            "+------+-----------------+\n",
            "|Niemcy|894996.4916362762|\n",
            "|Polska| 333330.908657074|\n",
            "+------+-----------------+\n",
            "\n",
            "Czas agregacji bez wiaderkowania: 0.51 sekund\n",
            "+------+-----------------+\n",
            "|  Kraj|       sum(Utarg)|\n",
            "+------+-----------------+\n",
            "|Niemcy|894996.4916362762|\n",
            "|Polska| 333330.908657074|\n",
            "+------+-----------------+\n",
            "\n",
            "Czas agregacji na wiaderkach: 0.42 sekund\n"
          ]
        }
      ]
    },
    {
      "cell_type": "code",
      "source": [
        "partitioned_by_country = df.repartition(\"Kraj\")\n",
        "partitioned_by_country.write.partitionBy(\"Kraj\").csv(\"partycjonowanie_kraj\", header=True)\n",
        "\n",
        "partitioned_by_seller = df.repartition(\"Sprzedawca\")\n",
        "partitioned_by_seller.write.partitionBy(\"Sprzedawca\").csv(\"partycjonowanie_sprzedawca\", header=True)"
      ],
      "metadata": {
        "id": "nHM9hBv8IGCE"
      },
      "execution_count": 18,
      "outputs": []
    },
    {
      "cell_type": "code",
      "source": [
        "start = time.time()\n",
        "df.filter(df[\"Kraj\"] == \"Polska\").groupBy(\"Sprzedawca\").sum(\"Utarg\").show()\n",
        "print(f\"Czas dla danych oryginalnych: {time.time() - start:.2f} sekund\")\n",
        "\n",
        "start = time.time()\n",
        "partitioned_by_country.filter(df[\"Kraj\"] == \"Polska\").groupBy(\"Sprzedawca\").sum(\"Utarg\").show()\n",
        "print(f\"Czas dla danych partycjonowanych: {time.time() - start:.2f} sekund\")"
      ],
      "metadata": {
        "colab": {
          "base_uri": "https://localhost:8080/"
        },
        "id": "StT-lwtfIOnv",
        "outputId": "3e06b277-1c0f-4d33-e8d4-899b3948b7ec"
      },
      "execution_count": 19,
      "outputs": [
        {
          "output_type": "stream",
          "name": "stdout",
          "text": [
            "+----------+------------------+\n",
            "|Sprzedawca|        sum(Utarg)|\n",
            "+----------+------------------+\n",
            "|  Sowiaski| 72527.62940597534|\n",
            "|      King|116962.98942565918|\n",
            "|     Dudek| 75048.03958892822|\n",
            "|  Kowalski| 68792.25023651123|\n",
            "+----------+------------------+\n",
            "\n",
            "Czas dla danych oryginalnych: 0.74 sekund\n",
            "+----------+------------------+\n",
            "|Sprzedawca|        sum(Utarg)|\n",
            "+----------+------------------+\n",
            "|  Sowiaski| 72527.62940597534|\n",
            "|      King|116962.98942565918|\n",
            "|     Dudek| 75048.03958892822|\n",
            "|  Kowalski| 68792.25023651123|\n",
            "+----------+------------------+\n",
            "\n",
            "Czas dla danych partycjonowanych: 1.13 sekund\n"
          ]
        }
      ]
    },
    {
      "cell_type": "code",
      "source": [
        "from pyspark.sql.functions import month, upper, lit\n",
        "\n",
        "subset1 = df.sample(fraction=0.25).withColumn(\"month\", month(\"Data zamowienia\"))\n",
        "subset1.createOrReplaceTempView(\"subset1\")"
      ],
      "metadata": {
        "id": "imYKFoozIdtH"
      },
      "execution_count": 20,
      "outputs": []
    },
    {
      "cell_type": "code",
      "source": [
        "subset2 = df.sample(fraction=0.25).withColumn(\"netto\", col(\"Utarg\") / 1.23)\n",
        "subset2.write.parquet(\"subset2.parquet\")"
      ],
      "metadata": {
        "id": "P-GIOS_pIgLF"
      },
      "execution_count": 21,
      "outputs": []
    },
    {
      "cell_type": "code",
      "source": [
        "subset3 = df.sample(fraction=0.25).withColumn(\"Sprzedawca\", upper(\"Sprzedawca\"))\n",
        "subset3.write.csv(\"subset3.csv\", header=True)"
      ],
      "metadata": {
        "id": "3sb84PhxIjjZ"
      },
      "execution_count": 22,
      "outputs": []
    },
    {
      "cell_type": "code",
      "source": [
        "subset4 = df.sample(fraction=0.25).withColumn(\"waluta\", lit(\"PLN\"))\n",
        "subset4 = subset4.withColumn(\"idZamowienia\", col(\"idZamowienia\").cast(\"string\"))\n",
        "subset4.write.json(\"subset4.json\")"
      ],
      "metadata": {
        "id": "qe04MEZZIo3T"
      },
      "execution_count": 37,
      "outputs": []
    },
    {
      "cell_type": "code",
      "source": [
        "subset2_df = spark.read.parquet(\"subset2.parquet\")\n",
        "subset3_df = spark.read.csv(\"subset3.csv\", header=True, inferSchema=True)\n",
        "subset4_df = spark.read.json(\"subset4.json\")\n",
        "\n",
        "\n",
        "df_alias = df.alias(\"df\")\n",
        "subset1_alias = subset1.alias(\"subset1\")\n",
        "subset2_alias = subset2_df.alias(\"subset2\")\n",
        "subset3_alias = subset3_df.alias(\"subset3\")\n",
        "subset4_alias = subset4_df.alias(\"subset4\")\n",
        "\n",
        "joined_df = df_alias.join(subset1_alias, \"idZamowienia\", \"inner\") \\\n",
        "                    .join(subset2_alias, \"idZamowienia\", \"inner\") \\\n",
        "                    .join(subset3_alias, \"idZamowienia\", \"inner\") \\\n",
        "                    .join(subset4_alias, \"idZamowienia\", \"inner\")\n",
        "\n",
        "joined_df.select(\n",
        "    \"df.idZamowienia\",\n",
        "    \"df.Kraj\",\n",
        "    \"df.Sprzedawca\",\n",
        "    \"df.Data zamowienia\",\n",
        "    \"df.Utarg\",\n",
        "    \"subset1.month\",\n",
        "    \"subset2.netto\",\n",
        "    \"subset3.Sprzedawca\",\n",
        "    \"subset4.waluta\"\n",
        ").show()\n"
      ],
      "metadata": {
        "colab": {
          "base_uri": "https://localhost:8080/"
        },
        "id": "wGkc49_sI-hQ",
        "outputId": "15c9500d-a984-4e24-9625-3856bd4001d4"
      },
      "execution_count": 38,
      "outputs": [
        {
          "output_type": "stream",
          "name": "stdout",
          "text": [
            "+------------+------+----------+---------------+------+-----+------------------+----------+------+\n",
            "|idZamowienia|  Kraj|Sprzedawca|Data zamowienia| Utarg|month|             netto|Sprzedawca|waluta|\n",
            "+------------+------+----------+---------------+------+-----+------------------+----------+------+\n",
            "|       10450|Niemcy|  Callahan|     2004-01-11|425.12|    1| 345.6260122903964|  CALLAHAN|   PLN|\n",
            "|       10478|Niemcy|    Fuller|     2004-01-26| 471.2|    1| 383.0894408187246|    FULLER|   PLN|\n",
            "|       10740|Niemcy|   Peacock|     2004-01-25|1416.0|    1| 1151.219512195122|   PEACOCK|   PLN|\n",
            "|       10748|Niemcy| Leverling|     2004-01-28|2196.0|    1|1785.3658536585367| LEVERLING|   PLN|\n",
            "+------------+------+----------+---------------+------+-----+------------------+----------+------+\n",
            "\n"
          ]
        }
      ]
    }
  ]
}