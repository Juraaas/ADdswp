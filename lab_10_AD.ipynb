{
  "nbformat": 4,
  "nbformat_minor": 0,
  "metadata": {
    "colab": {
      "provenance": []
    },
    "kernelspec": {
      "name": "python3",
      "display_name": "Python 3"
    },
    "language_info": {
      "name": "python"
    }
  },
  "cells": [
    {
      "cell_type": "code",
      "source": [
        "import kagglehub\n",
        "from pyspark.sql import SparkSession\n",
        "\n",
        "path = kagglehub.dataset_download('amrahhasanov23/otodom-pl-flat-prices-in-poland')\n",
        "\n",
        "spark = SparkSession.builder.appName('lab_10').getOrCreate()"
      ],
      "metadata": {
        "id": "lPs8SSKbVfqa"
      },
      "execution_count": null,
      "outputs": []
    },
    {
      "cell_type": "code",
      "source": [
        "df = spark.read.csv(path, header=True, inferSchema=True)"
      ],
      "metadata": {
        "id": "300ZJyCCceWy"
      },
      "execution_count": null,
      "outputs": []
    },
    {
      "cell_type": "code",
      "source": [
        "df.show(), df.printSchema()"
      ],
      "metadata": {
        "colab": {
          "base_uri": "https://localhost:8080/"
        },
        "id": "DINTYi-cceyw",
        "outputId": "606acf52-4a04-4962-e1d5-5b5a292eed7f"
      },
      "execution_count": null,
      "outputs": [
        {
          "output_type": "stream",
          "name": "stdout",
          "text": [
            "+--------------------+---------+--------------------+-------+---------------+--------+-------------------+--------+--------------------+----------------------+--------------------+------------------+-------------------+\n",
            "|               Title|    Price|            Location|Surface|Number_of_Rooms|   Floor|Finishing_Condition| Heating|       Parking_Space|Balcony_Garden_Terrace|                Link|       Voivodeship|               City|\n",
            "+--------------------+---------+--------------------+-------+---------------+--------+-------------------+--------+--------------------+----------------------+--------------------+------------------+-------------------+\n",
            "|2 pokoje 47m2 po ...| 415000.0|ul. Marysińska, S...|   47.0|             2 |    NULL|    do zamieszkania|miejskie|garaż/miejsce par...|                balkon|https://www.otodo...|           Łódzkie|               Łódź|\n",
            "|Właściciel- Ludwi...|2499000.0|ul. Ludwiki, Czys...|  105.0|             4 |     2/8|     do wykończenia|miejskie|garaż/miejsce par...|                balkon|https://www.otodo...|       Mazowieckie|           Warszawa|\n",
            "|Sprzedam mieszkan...| 649000.0|ul. Londyńska, Go...|   60.0|             3 |     4/4|    do zamieszkania|miejskie|                NULL|         balkon, taras|https://www.otodo...|          Lubuskie|Gorzów Wielkopolski|\n",
            "|Wyjątkowy, duży a...|2108000.0|Mrzeżyno, Trzebia...|   78.3|             3 |     4/4|     do wykończenia|    NULL|garaż/miejsce par...|                  NULL|https://www.otodo...|Zachodniopomorskie|           gryficki|\n",
            "|2/3-pok. 49,2 m2 ...| 450180.0|ul. Bartosza Głow...|   49.2|             2 |     2/3|    do zamieszkania|miejskie|garaż/miejsce par...|                balkon|https://www.otodo...|Zachodniopomorskie|           Koszalin|\n",
            "|Zgierz, 60,03m2, ...| 350000.0|Zgierz, zgierski,...|  60.03|             3 |  parter|               NULL|    NULL|                NULL|                  NULL|https://www.otodo...|           Łódzkie|           zgierski|\n",
            "|3 pokojowe Białogard| 220000.0|ul. Zamoyskiego, ...|   48.4|             3 |     4/4|         do remontu|miejskie|                NULL|                balkon|https://www.otodo...|Zachodniopomorskie|       białogardzki|\n",
            "|Mieszkanie 2 poko...| 610000.0|ul. Jana Rosoła, ...|   42.0|             2 |    8/12|         do remontu|    NULL|                NULL|                balkon|https://www.otodo...|       Mazowieckie|           Warszawa|\n",
            "|Kredyt 2% | 3 Pok...| 649000.0|Piaseczno, Piasec...|   76.4|             3 |     3/4|    do zamieszkania|miejskie|garaż/miejsce par...|                balkon|https://www.otodo...|       Mazowieckie|       piaseczyński|\n",
            "|   Ułańska City Park| 555000.0|Pogodno, Grunwald...|   45.0|             2 |     2/4|    do zamieszkania|miejskie|garaż/miejsce par...|                balkon|https://www.otodo...|     Wielkopolskie|             Poznań|\n",
            "|Nowoczesne, 3 pok...| 555000.0|ul. Powstańców Wa...|  62.52|             3 |     2/6|    do zamieszkania|miejskie|garaż/miejsce par...|         balkon, taras|https://www.otodo...|Kujawsko-pomorskie|          Bydgoszcz|\n",
            "|3 pokoje Apartame...| 999999.0|Pyry, Ursynów, Wa...|  63.95|             3 |     1/3|    do zamieszkania|miejskie|garaż/miejsce par...|                balkon|https://www.otodo...|       Mazowieckie|           Warszawa|\n",
            "|Bezpośrednio 2 po...| 522000.0|Niedźwiadek, Ursu...|   37.8|             2 |parter/4|         do remontu|miejskie|                NULL|                  NULL|https://www.otodo...|       Mazowieckie|           Warszawa|\n",
            "|2 pokoje, Umk, bl...| 299000.0|Bydgoskie Przedmi...|   38.0|             2 |       4|               NULL|    NULL|                NULL|                balkon|https://www.otodo...|Kujawsko-pomorskie|              Toruń|\n",
            "|61m2- loggia,łazi...| 489000.0|Rubinkowo, Toruń,...|   60.8|             3 |   10/11|               NULL|    NULL|                NULL|                balkon|https://www.otodo...|Kujawsko-pomorskie|              Toruń|\n",
            "|Świetna Lokalizac...| 359000.0|Koniuchy, Toruń, ...|   48.0|             3 |     3/4|               NULL|    NULL|                NULL|                balkon|https://www.otodo...|Kujawsko-pomorskie|              Toruń|\n",
            "|Mokre - Dwa Pokoj...| 285000.0|Mokre, Toruń, kuj...|   37.5|             2 |    2/11|         do remontu|    NULL|                NULL|                balkon|https://www.otodo...|Kujawsko-pomorskie|              Toruń|\n",
            "|Mokre- 2 pokoje- ...| 320000.0|Mokre, Toruń, kuj...|   39.4|             2 |    7/10|               NULL|    NULL|                NULL|                  NULL|https://www.otodo...|Kujawsko-pomorskie|              Toruń|\n",
            "|Mieszkanie Rubink...| 379000.0|Stare Miasto, Tor...|   61.0|             3 |    3/11|               NULL|    NULL|                NULL|                balkon|https://www.otodo...|Kujawsko-pomorskie|              Toruń|\n",
            "|Penthouse przy sa...|2923000.0|ul. gen. Władysła...|  121.8|             3 |     8/8|     do wykończenia|  gazowe|garaż/miejsce par...|         balkon, taras|https://www.otodo...|           Śląskie|           Katowice|\n",
            "+--------------------+---------+--------------------+-------+---------------+--------+-------------------+--------+--------------------+----------------------+--------------------+------------------+-------------------+\n",
            "only showing top 20 rows\n",
            "\n",
            "root\n",
            " |-- Title: string (nullable = true)\n",
            " |-- Price: double (nullable = true)\n",
            " |-- Location: string (nullable = true)\n",
            " |-- Surface: string (nullable = true)\n",
            " |-- Number_of_Rooms: string (nullable = true)\n",
            " |-- Floor: string (nullable = true)\n",
            " |-- Finishing_Condition: string (nullable = true)\n",
            " |-- Heating: string (nullable = true)\n",
            " |-- Parking_Space: string (nullable = true)\n",
            " |-- Balcony_Garden_Terrace: string (nullable = true)\n",
            " |-- Link: string (nullable = true)\n",
            " |-- Voivodeship: string (nullable = true)\n",
            " |-- City: string (nullable = true)\n",
            "\n"
          ]
        },
        {
          "output_type": "execute_result",
          "data": {
            "text/plain": [
              "(None, None)"
            ]
          },
          "metadata": {},
          "execution_count": 3
        }
      ]
    },
    {
      "cell_type": "code",
      "source": [
        "import pyspark.sql.functions as f\n",
        "\n",
        "missing_counts = df.select(\n",
        "    [(f.count(f.when(f.col(c).isNull(), 1)).alias(c)) for c in df.columns]\n",
        ").collect()[0]\n",
        "\n",
        "for col_name, missing_count in zip(df.columns, missing_counts):\n",
        "    print(f\"Kolumna '{col_name}': {missing_count} brakujących wartości\")"
      ],
      "metadata": {
        "colab": {
          "base_uri": "https://localhost:8080/"
        },
        "id": "xVJ-rx7mjbzb",
        "outputId": "05805d14-07c9-4b0b-cd21-312c7ea95663"
      },
      "execution_count": null,
      "outputs": [
        {
          "output_type": "stream",
          "name": "stdout",
          "text": [
            "Kolumna 'Title': 0 brakujących wartości\n",
            "Kolumna 'Price': 143 brakujących wartości\n",
            "Kolumna 'Location': 1 brakujących wartości\n",
            "Kolumna 'Surface': 0 brakujących wartości\n",
            "Kolumna 'Number_of_Rooms': 0 brakujących wartości\n",
            "Kolumna 'Floor': 64 brakujących wartości\n",
            "Kolumna 'Finishing_Condition': 578 brakujących wartości\n",
            "Kolumna 'Heating': 746 brakujących wartości\n",
            "Kolumna 'Parking_Space': 1328 brakujących wartości\n",
            "Kolumna 'Balcony_Garden_Terrace': 704 brakujących wartości\n",
            "Kolumna 'Link': 1 brakujących wartości\n",
            "Kolumna 'Voivodeship': 2 brakujących wartości\n",
            "Kolumna 'City': 2 brakujących wartości\n"
          ]
        }
      ]
    },
    {
      "cell_type": "code",
      "source": [
        "df = df.dropna(subset=['Price', 'Location', 'Floor', 'Finishing_Condition', 'Heating', 'Parking_Space', 'Balcony_Garden_Terrace', 'Link', 'Voivodeship', 'City'])\n",
        "df.show()"
      ],
      "metadata": {
        "colab": {
          "base_uri": "https://localhost:8080/"
        },
        "id": "TQAYKTw6fdTZ",
        "outputId": "7d5a1163-393a-4b5f-9e01-79feea5f1f50"
      },
      "execution_count": null,
      "outputs": [
        {
          "output_type": "stream",
          "name": "stdout",
          "text": [
            "+--------------------+---------+--------------------+-------+---------------+--------+-------------------+--------+--------------------+----------------------+--------------------+------------------+------------+\n",
            "|               Title|    Price|            Location|Surface|Number_of_Rooms|   Floor|Finishing_Condition| Heating|       Parking_Space|Balcony_Garden_Terrace|                Link|       Voivodeship|        City|\n",
            "+--------------------+---------+--------------------+-------+---------------+--------+-------------------+--------+--------------------+----------------------+--------------------+------------------+------------+\n",
            "|Właściciel- Ludwi...|2499000.0|ul. Ludwiki, Czys...|  105.0|             4 |     2/8|     do wykończenia|miejskie|garaż/miejsce par...|                balkon|https://www.otodo...|       Mazowieckie|    Warszawa|\n",
            "|2/3-pok. 49,2 m2 ...| 450180.0|ul. Bartosza Głow...|   49.2|             2 |     2/3|    do zamieszkania|miejskie|garaż/miejsce par...|                balkon|https://www.otodo...|Zachodniopomorskie|    Koszalin|\n",
            "|Kredyt 2% | 3 Pok...| 649000.0|Piaseczno, Piasec...|   76.4|             3 |     3/4|    do zamieszkania|miejskie|garaż/miejsce par...|                balkon|https://www.otodo...|       Mazowieckie|piaseczyński|\n",
            "|   Ułańska City Park| 555000.0|Pogodno, Grunwald...|   45.0|             2 |     2/4|    do zamieszkania|miejskie|garaż/miejsce par...|                balkon|https://www.otodo...|     Wielkopolskie|      Poznań|\n",
            "|Nowoczesne, 3 pok...| 555000.0|ul. Powstańców Wa...|  62.52|             3 |     2/6|    do zamieszkania|miejskie|garaż/miejsce par...|         balkon, taras|https://www.otodo...|Kujawsko-pomorskie|   Bydgoszcz|\n",
            "|3 pokoje Apartame...| 999999.0|Pyry, Ursynów, Wa...|  63.95|             3 |     1/3|    do zamieszkania|miejskie|garaż/miejsce par...|                balkon|https://www.otodo...|       Mazowieckie|    Warszawa|\n",
            "|Penthouse przy sa...|2923000.0|ul. gen. Władysła...|  121.8|             3 |     8/8|     do wykończenia|  gazowe|garaż/miejsce par...|         balkon, taras|https://www.otodo...|           Śląskie|    Katowice|\n",
            "|Mieszkanie  A.Cie...| 650000.0|ul. Augusta Ciesz...| 119.86|             5 |     2/3|     do wykończenia|  gazowe|garaż/miejsce par...|                balkon|https://www.otodo...|Kujawsko-pomorskie|   Bydgoszcz|\n",
            "|Osiedle Wilno, mi...| 900000.0|ul. Montwiłłowska...|  64.64|             3 |     2/3|    do zamieszkania|miejskie|garaż/miejsce par...|                balkon|https://www.otodo...|       Mazowieckie|    Warszawa|\n",
            "|Sprzedam nowe mie...| 629000.0|ul. Jana z Kolna,...|  65.86|             3 |     1/3|     do wykończenia|miejskie|garaż/miejsce par...|                balkon|https://www.otodo...|         Pomorskie|     gdański|\n",
            "|Gotowe! klimatycz...| 965760.0|ul. Tadeusza Mikk...|  100.6|             5 |     3/3|     do wykończenia|miejskie|garaż/miejsce par...|                balkon|https://www.otodo...|     Wielkopolskie|      Poznań|\n",
            "|3-pokojowe na spo...| 350000.0|ul. Kalinowa, Zab...|   60.0|             3 |     4/4|    do zamieszkania|miejskie|garaż/miejsce par...|                balkon|https://www.otodo...|           Śląskie|      Zabrze|\n",
            "|2pok SIM Karolews...| 330000.0|ul. Karolewska, C...|   32.0|             2 |parter/3|    do zamieszkania|  gazowe|garaż/miejsce par...|                balkon|https://www.otodo...|Kujawsko-pomorskie|   Bydgoszcz|\n",
            "|Nowe mieszkania -...| 389160.0|ul. Morelowa, Kos...|  43.24|             2 |     1/2|     do wykończenia|    inne|garaż/miejsce par...|                balkon|https://www.otodo...|Zachodniopomorskie|    Koszalin|\n",
            "|Nowe mieszkania -...| 315540.0|ul. Morelowa, Kos...|  35.06|             2 |     2/2|     do wykończenia|    inne|garaż/miejsce par...|                balkon|https://www.otodo...|Zachodniopomorskie|    Koszalin|\n",
            "|Nowe mieszkania -...| 315540.0|ul. Morelowa, Kos...|  35.06|             2 |     1/2|     do wykończenia|    inne|garaż/miejsce par...|                balkon|https://www.otodo...|Zachodniopomorskie|    Koszalin|\n",
            "|IDEALNA INWESTYCJ...| 881000.0|Wiczlino, Gdynia,...|  74.91|             4 |     3/3|    do zamieszkania|  gazowe|garaż/miejsce par...|                balkon|https://www.otodo...|         Pomorskie|      Gdynia|\n",
            "|Mieszkanie w Cent...| 350000.0|Śródmieście, Gliw...|   60.0|             3 |  parter|     do wykończenia|miejskie|garaż/miejsce par...|               ogródek|https://www.otodo...|           Śląskie|     Gliwice|\n",
            "|Mieszkanie - Gdań...| 769000.0|ul. Joachima Lele...|  33.42|             1 |     2/4|    do zamieszkania|miejskie|garaż/miejsce par...|                balkon|https://www.otodo...|         Pomorskie|      Gdańsk|\n",
            "|TORUŃ - ul. Czter...| 367000.0|Stawki, Toruń, ku...|   40.0|             2 |     1/3|     do wykończenia|miejskie|garaż/miejsce par...|                balkon|https://www.otodo...|Kujawsko-pomorskie|       Toruń|\n",
            "+--------------------+---------+--------------------+-------+---------------+--------+-------------------+--------+--------------------+----------------------+--------------------+------------------+------------+\n",
            "only showing top 20 rows\n",
            "\n"
          ]
        }
      ]
    },
    {
      "cell_type": "code",
      "source": [
        "from pyspark.sql.functions import col\n",
        "df = df.withColumn(\"Surface\", col(\"Surface\").cast(\"double\"))\n",
        "df = df.withColumn(\"Number_of_Rooms\", col(\"Number_of_Rooms\").cast(\"int\"))"
      ],
      "metadata": {
        "id": "eOWa0yNGu1CY"
      },
      "execution_count": null,
      "outputs": []
    },
    {
      "cell_type": "code",
      "source": [
        "unique_values = {col: df.select(col).distinct().count() for col in df.columns}\n",
        "\n",
        "for col_name, unique_count in unique_values.items():\n",
        "    print(f\"Kolumna '{col_name}': {unique_count} unikalnych wartości\")"
      ],
      "metadata": {
        "colab": {
          "base_uri": "https://localhost:8080/"
        },
        "id": "ONbl1dd4lkM1",
        "outputId": "9e7d8ca1-e92b-4269-960f-867cc828c09e"
      },
      "execution_count": null,
      "outputs": [
        {
          "output_type": "stream",
          "name": "stdout",
          "text": [
            "Kolumna 'Title': 708 unikalnych wartości\n",
            "Kolumna 'Price': 481 unikalnych wartości\n",
            "Kolumna 'Location': 588 unikalnych wartości\n",
            "Kolumna 'Surface': 545 unikalnych wartości\n",
            "Kolumna 'Number_of_Rooms': 8 unikalnych wartości\n",
            "Kolumna 'Floor': 82 unikalnych wartości\n",
            "Kolumna 'Finishing_Condition': 3 unikalnych wartości\n",
            "Kolumna 'Heating': 6 unikalnych wartości\n",
            "Kolumna 'Parking_Space': 1 unikalnych wartości\n",
            "Kolumna 'Balcony_Garden_Terrace': 8 unikalnych wartości\n",
            "Kolumna 'Link': 719 unikalnych wartości\n",
            "Kolumna 'Voivodeship': 16 unikalnych wartości\n",
            "Kolumna 'City': 137 unikalnych wartości\n"
          ]
        }
      ]
    },
    {
      "cell_type": "code",
      "source": [
        "from pyspark.ml.feature import StringIndexer, OneHotEncoder\n",
        "\n",
        "categorical_columns = ['Balcony_Garden_Terrace', 'Finishing_Condition', 'Heating']\n",
        "\n",
        "for col_name in categorical_columns:\n",
        "\n",
        "    indexer = StringIndexer(inputCol=col_name, outputCol=f'{col_name}_numeric')\n",
        "    indexer_fitted = indexer.fit(df)\n",
        "    df = indexer_fitted.transform(df)\n",
        "\n",
        "    encoder = OneHotEncoder(inputCols=[f'{col_name}_numeric'], outputCols=[f'{col_name}_onehot'])\n",
        "    df = encoder.fit(df).transform(df)\n",
        "\n",
        "df.printSchema()"
      ],
      "metadata": {
        "colab": {
          "base_uri": "https://localhost:8080/"
        },
        "id": "XLQbY-j4cl75",
        "outputId": "6fe30da5-f741-4442-99ee-d30012a25dbe"
      },
      "execution_count": null,
      "outputs": [
        {
          "output_type": "stream",
          "name": "stdout",
          "text": [
            "root\n",
            " |-- Title: string (nullable = true)\n",
            " |-- Price: double (nullable = true)\n",
            " |-- Location: string (nullable = true)\n",
            " |-- Surface: double (nullable = true)\n",
            " |-- Number_of_Rooms: integer (nullable = true)\n",
            " |-- Floor: string (nullable = true)\n",
            " |-- Finishing_Condition: string (nullable = true)\n",
            " |-- Heating: string (nullable = true)\n",
            " |-- Parking_Space: string (nullable = true)\n",
            " |-- Balcony_Garden_Terrace: string (nullable = true)\n",
            " |-- Link: string (nullable = true)\n",
            " |-- Voivodeship: string (nullable = true)\n",
            " |-- City: string (nullable = true)\n",
            " |-- Balcony_Garden_Terrace_numeric: double (nullable = false)\n",
            " |-- Balcony_Garden_Terrace_onehot: vector (nullable = true)\n",
            " |-- Finishing_Condition_numeric: double (nullable = false)\n",
            " |-- Finishing_Condition_onehot: vector (nullable = true)\n",
            " |-- Heating_numeric: double (nullable = false)\n",
            " |-- Heating_onehot: vector (nullable = true)\n",
            "\n"
          ]
        }
      ]
    },
    {
      "cell_type": "code",
      "source": [
        "df.show()"
      ],
      "metadata": {
        "colab": {
          "base_uri": "https://localhost:8080/"
        },
        "id": "eVIE9zHadvQK",
        "outputId": "25177874-fd31-4547-bd8b-5d9d5cd5ac56"
      },
      "execution_count": null,
      "outputs": [
        {
          "output_type": "stream",
          "name": "stdout",
          "text": [
            "+--------------------+---------+--------------------+-------+---------------+--------+-------------------+--------+--------------------+----------------------+--------------------+------------------+------------+------------------------------+-----------------------------+---------------------------+--------------------------+---------------+--------------+\n",
            "|               Title|    Price|            Location|Surface|Number_of_Rooms|   Floor|Finishing_Condition| Heating|       Parking_Space|Balcony_Garden_Terrace|                Link|       Voivodeship|        City|Balcony_Garden_Terrace_numeric|Balcony_Garden_Terrace_onehot|Finishing_Condition_numeric|Finishing_Condition_onehot|Heating_numeric|Heating_onehot|\n",
            "+--------------------+---------+--------------------+-------+---------------+--------+-------------------+--------+--------------------+----------------------+--------------------+------------------+------------+------------------------------+-----------------------------+---------------------------+--------------------------+---------------+--------------+\n",
            "|Właściciel- Ludwi...|2499000.0|ul. Ludwiki, Czys...|  105.0|              4|     2/8|     do wykończenia|miejskie|garaż/miejsce par...|                balkon|https://www.otodo...|       Mazowieckie|    Warszawa|                           0.0|                (7,[0],[1.0])|                        1.0|             (2,[1],[1.0])|            0.0| (5,[0],[1.0])|\n",
            "|2/3-pok. 49,2 m2 ...| 450180.0|ul. Bartosza Głow...|   49.2|              2|     2/3|    do zamieszkania|miejskie|garaż/miejsce par...|                balkon|https://www.otodo...|Zachodniopomorskie|    Koszalin|                           0.0|                (7,[0],[1.0])|                        0.0|             (2,[0],[1.0])|            0.0| (5,[0],[1.0])|\n",
            "|Kredyt 2% | 3 Pok...| 649000.0|Piaseczno, Piasec...|   76.4|              3|     3/4|    do zamieszkania|miejskie|garaż/miejsce par...|                balkon|https://www.otodo...|       Mazowieckie|piaseczyński|                           0.0|                (7,[0],[1.0])|                        0.0|             (2,[0],[1.0])|            0.0| (5,[0],[1.0])|\n",
            "|   Ułańska City Park| 555000.0|Pogodno, Grunwald...|   45.0|              2|     2/4|    do zamieszkania|miejskie|garaż/miejsce par...|                balkon|https://www.otodo...|     Wielkopolskie|      Poznań|                           0.0|                (7,[0],[1.0])|                        0.0|             (2,[0],[1.0])|            0.0| (5,[0],[1.0])|\n",
            "|Nowoczesne, 3 pok...| 555000.0|ul. Powstańców Wa...|  62.52|              3|     2/6|    do zamieszkania|miejskie|garaż/miejsce par...|         balkon, taras|https://www.otodo...|Kujawsko-pomorskie|   Bydgoszcz|                           1.0|                (7,[1],[1.0])|                        0.0|             (2,[0],[1.0])|            0.0| (5,[0],[1.0])|\n",
            "|3 pokoje Apartame...| 999999.0|Pyry, Ursynów, Wa...|  63.95|              3|     1/3|    do zamieszkania|miejskie|garaż/miejsce par...|                balkon|https://www.otodo...|       Mazowieckie|    Warszawa|                           0.0|                (7,[0],[1.0])|                        0.0|             (2,[0],[1.0])|            0.0| (5,[0],[1.0])|\n",
            "|Penthouse przy sa...|2923000.0|ul. gen. Władysła...|  121.8|              3|     8/8|     do wykończenia|  gazowe|garaż/miejsce par...|         balkon, taras|https://www.otodo...|           Śląskie|    Katowice|                           1.0|                (7,[1],[1.0])|                        1.0|             (2,[1],[1.0])|            1.0| (5,[1],[1.0])|\n",
            "|Mieszkanie  A.Cie...| 650000.0|ul. Augusta Ciesz...| 119.86|              5|     2/3|     do wykończenia|  gazowe|garaż/miejsce par...|                balkon|https://www.otodo...|Kujawsko-pomorskie|   Bydgoszcz|                           0.0|                (7,[0],[1.0])|                        1.0|             (2,[1],[1.0])|            1.0| (5,[1],[1.0])|\n",
            "|Osiedle Wilno, mi...| 900000.0|ul. Montwiłłowska...|  64.64|              3|     2/3|    do zamieszkania|miejskie|garaż/miejsce par...|                balkon|https://www.otodo...|       Mazowieckie|    Warszawa|                           0.0|                (7,[0],[1.0])|                        0.0|             (2,[0],[1.0])|            0.0| (5,[0],[1.0])|\n",
            "|Sprzedam nowe mie...| 629000.0|ul. Jana z Kolna,...|  65.86|              3|     1/3|     do wykończenia|miejskie|garaż/miejsce par...|                balkon|https://www.otodo...|         Pomorskie|     gdański|                           0.0|                (7,[0],[1.0])|                        1.0|             (2,[1],[1.0])|            0.0| (5,[0],[1.0])|\n",
            "|Gotowe! klimatycz...| 965760.0|ul. Tadeusza Mikk...|  100.6|              5|     3/3|     do wykończenia|miejskie|garaż/miejsce par...|                balkon|https://www.otodo...|     Wielkopolskie|      Poznań|                           0.0|                (7,[0],[1.0])|                        1.0|             (2,[1],[1.0])|            0.0| (5,[0],[1.0])|\n",
            "|3-pokojowe na spo...| 350000.0|ul. Kalinowa, Zab...|   60.0|              3|     4/4|    do zamieszkania|miejskie|garaż/miejsce par...|                balkon|https://www.otodo...|           Śląskie|      Zabrze|                           0.0|                (7,[0],[1.0])|                        0.0|             (2,[0],[1.0])|            0.0| (5,[0],[1.0])|\n",
            "|2pok SIM Karolews...| 330000.0|ul. Karolewska, C...|   32.0|              2|parter/3|    do zamieszkania|  gazowe|garaż/miejsce par...|                balkon|https://www.otodo...|Kujawsko-pomorskie|   Bydgoszcz|                           0.0|                (7,[0],[1.0])|                        0.0|             (2,[0],[1.0])|            1.0| (5,[1],[1.0])|\n",
            "|Nowe mieszkania -...| 389160.0|ul. Morelowa, Kos...|  43.24|              2|     1/2|     do wykończenia|    inne|garaż/miejsce par...|                balkon|https://www.otodo...|Zachodniopomorskie|    Koszalin|                           0.0|                (7,[0],[1.0])|                        1.0|             (2,[1],[1.0])|            2.0| (5,[2],[1.0])|\n",
            "|Nowe mieszkania -...| 315540.0|ul. Morelowa, Kos...|  35.06|              2|     2/2|     do wykończenia|    inne|garaż/miejsce par...|                balkon|https://www.otodo...|Zachodniopomorskie|    Koszalin|                           0.0|                (7,[0],[1.0])|                        1.0|             (2,[1],[1.0])|            2.0| (5,[2],[1.0])|\n",
            "|Nowe mieszkania -...| 315540.0|ul. Morelowa, Kos...|  35.06|              2|     1/2|     do wykończenia|    inne|garaż/miejsce par...|                balkon|https://www.otodo...|Zachodniopomorskie|    Koszalin|                           0.0|                (7,[0],[1.0])|                        1.0|             (2,[1],[1.0])|            2.0| (5,[2],[1.0])|\n",
            "|IDEALNA INWESTYCJ...| 881000.0|Wiczlino, Gdynia,...|  74.91|              4|     3/3|    do zamieszkania|  gazowe|garaż/miejsce par...|                balkon|https://www.otodo...|         Pomorskie|      Gdynia|                           0.0|                (7,[0],[1.0])|                        0.0|             (2,[0],[1.0])|            1.0| (5,[1],[1.0])|\n",
            "|Mieszkanie w Cent...| 350000.0|Śródmieście, Gliw...|   60.0|              3|  parter|     do wykończenia|miejskie|garaż/miejsce par...|               ogródek|https://www.otodo...|           Śląskie|     Gliwice|                           2.0|                (7,[2],[1.0])|                        1.0|             (2,[1],[1.0])|            0.0| (5,[0],[1.0])|\n",
            "|Mieszkanie - Gdań...| 769000.0|ul. Joachima Lele...|  33.42|              1|     2/4|    do zamieszkania|miejskie|garaż/miejsce par...|                balkon|https://www.otodo...|         Pomorskie|      Gdańsk|                           0.0|                (7,[0],[1.0])|                        0.0|             (2,[0],[1.0])|            0.0| (5,[0],[1.0])|\n",
            "|TORUŃ - ul. Czter...| 367000.0|Stawki, Toruń, ku...|   40.0|              2|     1/3|     do wykończenia|miejskie|garaż/miejsce par...|                balkon|https://www.otodo...|Kujawsko-pomorskie|       Toruń|                           0.0|                (7,[0],[1.0])|                        1.0|             (2,[1],[1.0])|            0.0| (5,[0],[1.0])|\n",
            "+--------------------+---------+--------------------+-------+---------------+--------+-------------------+--------+--------------------+----------------------+--------------------+------------------+------------+------------------------------+-----------------------------+---------------------------+--------------------------+---------------+--------------+\n",
            "only showing top 20 rows\n",
            "\n"
          ]
        }
      ]
    },
    {
      "cell_type": "code",
      "source": [
        "from pyspark.ml.functions import vector_to_array\n",
        "\n",
        "df_col_onehot = df.select('*', vector_to_array('Balcony_Garden_Terrace_onehot').alias('balc_onehot'))"
      ],
      "metadata": {
        "id": "ZnyeDa7Ad9R5"
      },
      "execution_count": null,
      "outputs": []
    },
    {
      "cell_type": "code",
      "source": [
        "df_col_onehot.show()"
      ],
      "metadata": {
        "colab": {
          "base_uri": "https://localhost:8080/"
        },
        "id": "32h9vkTwrEmP",
        "outputId": "17e71e76-9024-4ab9-8fb9-477a25f8e109"
      },
      "execution_count": null,
      "outputs": [
        {
          "output_type": "stream",
          "name": "stdout",
          "text": [
            "+--------------------+---------+--------------------+-------+---------------+--------+-------------------+--------+--------------------+----------------------+--------------------+------------------+------------+------------------------------+-----------------------------+---------------------------+--------------------------+---------------+--------------+--------------------+\n",
            "|               Title|    Price|            Location|Surface|Number_of_Rooms|   Floor|Finishing_Condition| Heating|       Parking_Space|Balcony_Garden_Terrace|                Link|       Voivodeship|        City|Balcony_Garden_Terrace_numeric|Balcony_Garden_Terrace_onehot|Finishing_Condition_numeric|Finishing_Condition_onehot|Heating_numeric|Heating_onehot|         balc_onehot|\n",
            "+--------------------+---------+--------------------+-------+---------------+--------+-------------------+--------+--------------------+----------------------+--------------------+------------------+------------+------------------------------+-----------------------------+---------------------------+--------------------------+---------------+--------------+--------------------+\n",
            "|Właściciel- Ludwi...|2499000.0|ul. Ludwiki, Czys...|  105.0|              4|     2/8|     do wykończenia|miejskie|garaż/miejsce par...|                balkon|https://www.otodo...|       Mazowieckie|    Warszawa|                           0.0|                (7,[0],[1.0])|                        1.0|             (2,[1],[1.0])|            0.0| (5,[0],[1.0])|[1.0, 0.0, 0.0, 0...|\n",
            "|2/3-pok. 49,2 m2 ...| 450180.0|ul. Bartosza Głow...|   49.2|              2|     2/3|    do zamieszkania|miejskie|garaż/miejsce par...|                balkon|https://www.otodo...|Zachodniopomorskie|    Koszalin|                           0.0|                (7,[0],[1.0])|                        0.0|             (2,[0],[1.0])|            0.0| (5,[0],[1.0])|[1.0, 0.0, 0.0, 0...|\n",
            "|Kredyt 2% | 3 Pok...| 649000.0|Piaseczno, Piasec...|   76.4|              3|     3/4|    do zamieszkania|miejskie|garaż/miejsce par...|                balkon|https://www.otodo...|       Mazowieckie|piaseczyński|                           0.0|                (7,[0],[1.0])|                        0.0|             (2,[0],[1.0])|            0.0| (5,[0],[1.0])|[1.0, 0.0, 0.0, 0...|\n",
            "|   Ułańska City Park| 555000.0|Pogodno, Grunwald...|   45.0|              2|     2/4|    do zamieszkania|miejskie|garaż/miejsce par...|                balkon|https://www.otodo...|     Wielkopolskie|      Poznań|                           0.0|                (7,[0],[1.0])|                        0.0|             (2,[0],[1.0])|            0.0| (5,[0],[1.0])|[1.0, 0.0, 0.0, 0...|\n",
            "|Nowoczesne, 3 pok...| 555000.0|ul. Powstańców Wa...|  62.52|              3|     2/6|    do zamieszkania|miejskie|garaż/miejsce par...|         balkon, taras|https://www.otodo...|Kujawsko-pomorskie|   Bydgoszcz|                           1.0|                (7,[1],[1.0])|                        0.0|             (2,[0],[1.0])|            0.0| (5,[0],[1.0])|[0.0, 1.0, 0.0, 0...|\n",
            "|3 pokoje Apartame...| 999999.0|Pyry, Ursynów, Wa...|  63.95|              3|     1/3|    do zamieszkania|miejskie|garaż/miejsce par...|                balkon|https://www.otodo...|       Mazowieckie|    Warszawa|                           0.0|                (7,[0],[1.0])|                        0.0|             (2,[0],[1.0])|            0.0| (5,[0],[1.0])|[1.0, 0.0, 0.0, 0...|\n",
            "|Penthouse przy sa...|2923000.0|ul. gen. Władysła...|  121.8|              3|     8/8|     do wykończenia|  gazowe|garaż/miejsce par...|         balkon, taras|https://www.otodo...|           Śląskie|    Katowice|                           1.0|                (7,[1],[1.0])|                        1.0|             (2,[1],[1.0])|            1.0| (5,[1],[1.0])|[0.0, 1.0, 0.0, 0...|\n",
            "|Mieszkanie  A.Cie...| 650000.0|ul. Augusta Ciesz...| 119.86|              5|     2/3|     do wykończenia|  gazowe|garaż/miejsce par...|                balkon|https://www.otodo...|Kujawsko-pomorskie|   Bydgoszcz|                           0.0|                (7,[0],[1.0])|                        1.0|             (2,[1],[1.0])|            1.0| (5,[1],[1.0])|[1.0, 0.0, 0.0, 0...|\n",
            "|Osiedle Wilno, mi...| 900000.0|ul. Montwiłłowska...|  64.64|              3|     2/3|    do zamieszkania|miejskie|garaż/miejsce par...|                balkon|https://www.otodo...|       Mazowieckie|    Warszawa|                           0.0|                (7,[0],[1.0])|                        0.0|             (2,[0],[1.0])|            0.0| (5,[0],[1.0])|[1.0, 0.0, 0.0, 0...|\n",
            "|Sprzedam nowe mie...| 629000.0|ul. Jana z Kolna,...|  65.86|              3|     1/3|     do wykończenia|miejskie|garaż/miejsce par...|                balkon|https://www.otodo...|         Pomorskie|     gdański|                           0.0|                (7,[0],[1.0])|                        1.0|             (2,[1],[1.0])|            0.0| (5,[0],[1.0])|[1.0, 0.0, 0.0, 0...|\n",
            "|Gotowe! klimatycz...| 965760.0|ul. Tadeusza Mikk...|  100.6|              5|     3/3|     do wykończenia|miejskie|garaż/miejsce par...|                balkon|https://www.otodo...|     Wielkopolskie|      Poznań|                           0.0|                (7,[0],[1.0])|                        1.0|             (2,[1],[1.0])|            0.0| (5,[0],[1.0])|[1.0, 0.0, 0.0, 0...|\n",
            "|3-pokojowe na spo...| 350000.0|ul. Kalinowa, Zab...|   60.0|              3|     4/4|    do zamieszkania|miejskie|garaż/miejsce par...|                balkon|https://www.otodo...|           Śląskie|      Zabrze|                           0.0|                (7,[0],[1.0])|                        0.0|             (2,[0],[1.0])|            0.0| (5,[0],[1.0])|[1.0, 0.0, 0.0, 0...|\n",
            "|2pok SIM Karolews...| 330000.0|ul. Karolewska, C...|   32.0|              2|parter/3|    do zamieszkania|  gazowe|garaż/miejsce par...|                balkon|https://www.otodo...|Kujawsko-pomorskie|   Bydgoszcz|                           0.0|                (7,[0],[1.0])|                        0.0|             (2,[0],[1.0])|            1.0| (5,[1],[1.0])|[1.0, 0.0, 0.0, 0...|\n",
            "|Nowe mieszkania -...| 389160.0|ul. Morelowa, Kos...|  43.24|              2|     1/2|     do wykończenia|    inne|garaż/miejsce par...|                balkon|https://www.otodo...|Zachodniopomorskie|    Koszalin|                           0.0|                (7,[0],[1.0])|                        1.0|             (2,[1],[1.0])|            2.0| (5,[2],[1.0])|[1.0, 0.0, 0.0, 0...|\n",
            "|Nowe mieszkania -...| 315540.0|ul. Morelowa, Kos...|  35.06|              2|     2/2|     do wykończenia|    inne|garaż/miejsce par...|                balkon|https://www.otodo...|Zachodniopomorskie|    Koszalin|                           0.0|                (7,[0],[1.0])|                        1.0|             (2,[1],[1.0])|            2.0| (5,[2],[1.0])|[1.0, 0.0, 0.0, 0...|\n",
            "|Nowe mieszkania -...| 315540.0|ul. Morelowa, Kos...|  35.06|              2|     1/2|     do wykończenia|    inne|garaż/miejsce par...|                balkon|https://www.otodo...|Zachodniopomorskie|    Koszalin|                           0.0|                (7,[0],[1.0])|                        1.0|             (2,[1],[1.0])|            2.0| (5,[2],[1.0])|[1.0, 0.0, 0.0, 0...|\n",
            "|IDEALNA INWESTYCJ...| 881000.0|Wiczlino, Gdynia,...|  74.91|              4|     3/3|    do zamieszkania|  gazowe|garaż/miejsce par...|                balkon|https://www.otodo...|         Pomorskie|      Gdynia|                           0.0|                (7,[0],[1.0])|                        0.0|             (2,[0],[1.0])|            1.0| (5,[1],[1.0])|[1.0, 0.0, 0.0, 0...|\n",
            "|Mieszkanie w Cent...| 350000.0|Śródmieście, Gliw...|   60.0|              3|  parter|     do wykończenia|miejskie|garaż/miejsce par...|               ogródek|https://www.otodo...|           Śląskie|     Gliwice|                           2.0|                (7,[2],[1.0])|                        1.0|             (2,[1],[1.0])|            0.0| (5,[0],[1.0])|[0.0, 0.0, 1.0, 0...|\n",
            "|Mieszkanie - Gdań...| 769000.0|ul. Joachima Lele...|  33.42|              1|     2/4|    do zamieszkania|miejskie|garaż/miejsce par...|                balkon|https://www.otodo...|         Pomorskie|      Gdańsk|                           0.0|                (7,[0],[1.0])|                        0.0|             (2,[0],[1.0])|            0.0| (5,[0],[1.0])|[1.0, 0.0, 0.0, 0...|\n",
            "|TORUŃ - ul. Czter...| 367000.0|Stawki, Toruń, ku...|   40.0|              2|     1/3|     do wykończenia|miejskie|garaż/miejsce par...|                balkon|https://www.otodo...|Kujawsko-pomorskie|       Toruń|                           0.0|                (7,[0],[1.0])|                        1.0|             (2,[1],[1.0])|            0.0| (5,[0],[1.0])|[1.0, 0.0, 0.0, 0...|\n",
            "+--------------------+---------+--------------------+-------+---------------+--------+-------------------+--------+--------------------+----------------------+--------------------+------------------+------------+------------------------------+-----------------------------+---------------------------+--------------------------+---------------+--------------+--------------------+\n",
            "only showing top 20 rows\n",
            "\n"
          ]
        }
      ]
    },
    {
      "cell_type": "code",
      "source": [
        "from pyspark.ml.functions import vector_to_array\n",
        "import pyspark.sql.functions as f\n",
        "\n",
        "categorical_columns = ['Balcony_Garden_Terrace', 'Finishing_Condition', 'Heating']\n",
        "\n",
        "df_cols_onehot = df\n",
        "\n",
        "for col_name in categorical_columns:\n",
        "    labels = df.select(col_name).distinct().rdd.map(lambda x: x[0]).collect()\n",
        "    labels.sort()\n",
        "\n",
        "    df_cols_onehot = df_cols_onehot.withColumn(f'{col_name}_array', vector_to_array(f'{col_name}_onehot'))\n",
        "\n",
        "    expanded_cols = [\n",
        "        f.col(f'{col_name}_array')[i].alias(f'{col_name}_{labels[i]}') for i in range(len(labels))\n",
        "    ]\n",
        "\n",
        "    df_cols_onehot = df_cols_onehot.select('*', *expanded_cols)\n",
        "\n",
        "df_cols_onehot.printSchema()\n",
        "df_cols_onehot.show()"
      ],
      "metadata": {
        "colab": {
          "base_uri": "https://localhost:8080/"
        },
        "id": "ndgFVeONrzP9",
        "outputId": "c9b45632-f5f6-448b-b8f4-68205e0b1c13"
      },
      "execution_count": null,
      "outputs": [
        {
          "output_type": "stream",
          "name": "stdout",
          "text": [
            "root\n",
            " |-- Title: string (nullable = true)\n",
            " |-- Price: double (nullable = true)\n",
            " |-- Location: string (nullable = true)\n",
            " |-- Surface: double (nullable = true)\n",
            " |-- Number_of_Rooms: integer (nullable = true)\n",
            " |-- Floor: string (nullable = true)\n",
            " |-- Finishing_Condition: string (nullable = true)\n",
            " |-- Heating: string (nullable = true)\n",
            " |-- Parking_Space: string (nullable = true)\n",
            " |-- Balcony_Garden_Terrace: string (nullable = true)\n",
            " |-- Link: string (nullable = true)\n",
            " |-- Voivodeship: string (nullable = true)\n",
            " |-- City: string (nullable = true)\n",
            " |-- Balcony_Garden_Terrace_numeric: double (nullable = false)\n",
            " |-- Balcony_Garden_Terrace_onehot: vector (nullable = true)\n",
            " |-- Finishing_Condition_numeric: double (nullable = false)\n",
            " |-- Finishing_Condition_onehot: vector (nullable = true)\n",
            " |-- Heating_numeric: double (nullable = false)\n",
            " |-- Heating_onehot: vector (nullable = true)\n",
            " |-- Balcony_Garden_Terrace_array: array (nullable = false)\n",
            " |    |-- element: double (containsNull = false)\n",
            " |-- Balcony_Garden_Terrace_balkon: double (nullable = true)\n",
            " |-- Balcony_Garden_Terrace_balkon, ogródek: double (nullable = true)\n",
            " |-- Balcony_Garden_Terrace_balkon, ogródek, taras: double (nullable = true)\n",
            " |-- Balcony_Garden_Terrace_balkon, taras: double (nullable = true)\n",
            " |-- Balcony_Garden_Terrace_ogródek: double (nullable = true)\n",
            " |-- Balcony_Garden_Terrace_ogródek, taras: double (nullable = true)\n",
            " |-- Balcony_Garden_Terrace_taras: double (nullable = true)\n",
            " |-- Balcony_Garden_Terrace_taras, ogródek: double (nullable = true)\n",
            " |-- Finishing_Condition_array: array (nullable = false)\n",
            " |    |-- element: double (containsNull = false)\n",
            " |-- Finishing_Condition_do remontu: double (nullable = true)\n",
            " |-- Finishing_Condition_do wykończenia: double (nullable = true)\n",
            " |-- Finishing_Condition_do zamieszkania: double (nullable = true)\n",
            " |-- Heating_array: array (nullable = false)\n",
            " |    |-- element: double (containsNull = false)\n",
            " |-- Heating_elektryczne: double (nullable = true)\n",
            " |-- Heating_gazowe: double (nullable = true)\n",
            " |-- Heating_inne: double (nullable = true)\n",
            " |-- Heating_kotłownia: double (nullable = true)\n",
            " |-- Heating_miejskie: double (nullable = true)\n",
            " |-- Heating_piece kaflowe: double (nullable = true)\n",
            "\n",
            "+--------------------+---------+--------------------+-------+---------------+--------+-------------------+--------+--------------------+----------------------+--------------------+------------------+------------+------------------------------+-----------------------------+---------------------------+--------------------------+---------------+--------------+----------------------------+-----------------------------+--------------------------------------+---------------------------------------------+------------------------------------+------------------------------+-------------------------------------+----------------------------+-------------------------------------+-------------------------+------------------------------+----------------------------------+-----------------------------------+--------------------+-------------------+--------------+------------+-----------------+----------------+---------------------+\n",
            "|               Title|    Price|            Location|Surface|Number_of_Rooms|   Floor|Finishing_Condition| Heating|       Parking_Space|Balcony_Garden_Terrace|                Link|       Voivodeship|        City|Balcony_Garden_Terrace_numeric|Balcony_Garden_Terrace_onehot|Finishing_Condition_numeric|Finishing_Condition_onehot|Heating_numeric|Heating_onehot|Balcony_Garden_Terrace_array|Balcony_Garden_Terrace_balkon|Balcony_Garden_Terrace_balkon, ogródek|Balcony_Garden_Terrace_balkon, ogródek, taras|Balcony_Garden_Terrace_balkon, taras|Balcony_Garden_Terrace_ogródek|Balcony_Garden_Terrace_ogródek, taras|Balcony_Garden_Terrace_taras|Balcony_Garden_Terrace_taras, ogródek|Finishing_Condition_array|Finishing_Condition_do remontu|Finishing_Condition_do wykończenia|Finishing_Condition_do zamieszkania|       Heating_array|Heating_elektryczne|Heating_gazowe|Heating_inne|Heating_kotłownia|Heating_miejskie|Heating_piece kaflowe|\n",
            "+--------------------+---------+--------------------+-------+---------------+--------+-------------------+--------+--------------------+----------------------+--------------------+------------------+------------+------------------------------+-----------------------------+---------------------------+--------------------------+---------------+--------------+----------------------------+-----------------------------+--------------------------------------+---------------------------------------------+------------------------------------+------------------------------+-------------------------------------+----------------------------+-------------------------------------+-------------------------+------------------------------+----------------------------------+-----------------------------------+--------------------+-------------------+--------------+------------+-----------------+----------------+---------------------+\n",
            "|Właściciel- Ludwi...|2499000.0|ul. Ludwiki, Czys...|  105.0|              4|     2/8|     do wykończenia|miejskie|garaż/miejsce par...|                balkon|https://www.otodo...|       Mazowieckie|    Warszawa|                           0.0|                (7,[0],[1.0])|                        1.0|             (2,[1],[1.0])|            0.0| (5,[0],[1.0])|        [1.0, 0.0, 0.0, 0...|                          1.0|                                   0.0|                                          0.0|                                 0.0|                           0.0|                                  0.0|                         0.0|                                 NULL|               [0.0, 1.0]|                           0.0|                               1.0|                               NULL|[1.0, 0.0, 0.0, 0...|                1.0|           0.0|         0.0|              0.0|             0.0|                 NULL|\n",
            "|2/3-pok. 49,2 m2 ...| 450180.0|ul. Bartosza Głow...|   49.2|              2|     2/3|    do zamieszkania|miejskie|garaż/miejsce par...|                balkon|https://www.otodo...|Zachodniopomorskie|    Koszalin|                           0.0|                (7,[0],[1.0])|                        0.0|             (2,[0],[1.0])|            0.0| (5,[0],[1.0])|        [1.0, 0.0, 0.0, 0...|                          1.0|                                   0.0|                                          0.0|                                 0.0|                           0.0|                                  0.0|                         0.0|                                 NULL|               [1.0, 0.0]|                           1.0|                               0.0|                               NULL|[1.0, 0.0, 0.0, 0...|                1.0|           0.0|         0.0|              0.0|             0.0|                 NULL|\n",
            "|Kredyt 2% | 3 Pok...| 649000.0|Piaseczno, Piasec...|   76.4|              3|     3/4|    do zamieszkania|miejskie|garaż/miejsce par...|                balkon|https://www.otodo...|       Mazowieckie|piaseczyński|                           0.0|                (7,[0],[1.0])|                        0.0|             (2,[0],[1.0])|            0.0| (5,[0],[1.0])|        [1.0, 0.0, 0.0, 0...|                          1.0|                                   0.0|                                          0.0|                                 0.0|                           0.0|                                  0.0|                         0.0|                                 NULL|               [1.0, 0.0]|                           1.0|                               0.0|                               NULL|[1.0, 0.0, 0.0, 0...|                1.0|           0.0|         0.0|              0.0|             0.0|                 NULL|\n",
            "|   Ułańska City Park| 555000.0|Pogodno, Grunwald...|   45.0|              2|     2/4|    do zamieszkania|miejskie|garaż/miejsce par...|                balkon|https://www.otodo...|     Wielkopolskie|      Poznań|                           0.0|                (7,[0],[1.0])|                        0.0|             (2,[0],[1.0])|            0.0| (5,[0],[1.0])|        [1.0, 0.0, 0.0, 0...|                          1.0|                                   0.0|                                          0.0|                                 0.0|                           0.0|                                  0.0|                         0.0|                                 NULL|               [1.0, 0.0]|                           1.0|                               0.0|                               NULL|[1.0, 0.0, 0.0, 0...|                1.0|           0.0|         0.0|              0.0|             0.0|                 NULL|\n",
            "|Nowoczesne, 3 pok...| 555000.0|ul. Powstańców Wa...|  62.52|              3|     2/6|    do zamieszkania|miejskie|garaż/miejsce par...|         balkon, taras|https://www.otodo...|Kujawsko-pomorskie|   Bydgoszcz|                           1.0|                (7,[1],[1.0])|                        0.0|             (2,[0],[1.0])|            0.0| (5,[0],[1.0])|        [0.0, 1.0, 0.0, 0...|                          0.0|                                   1.0|                                          0.0|                                 0.0|                           0.0|                                  0.0|                         0.0|                                 NULL|               [1.0, 0.0]|                           1.0|                               0.0|                               NULL|[1.0, 0.0, 0.0, 0...|                1.0|           0.0|         0.0|              0.0|             0.0|                 NULL|\n",
            "|3 pokoje Apartame...| 999999.0|Pyry, Ursynów, Wa...|  63.95|              3|     1/3|    do zamieszkania|miejskie|garaż/miejsce par...|                balkon|https://www.otodo...|       Mazowieckie|    Warszawa|                           0.0|                (7,[0],[1.0])|                        0.0|             (2,[0],[1.0])|            0.0| (5,[0],[1.0])|        [1.0, 0.0, 0.0, 0...|                          1.0|                                   0.0|                                          0.0|                                 0.0|                           0.0|                                  0.0|                         0.0|                                 NULL|               [1.0, 0.0]|                           1.0|                               0.0|                               NULL|[1.0, 0.0, 0.0, 0...|                1.0|           0.0|         0.0|              0.0|             0.0|                 NULL|\n",
            "|Penthouse przy sa...|2923000.0|ul. gen. Władysła...|  121.8|              3|     8/8|     do wykończenia|  gazowe|garaż/miejsce par...|         balkon, taras|https://www.otodo...|           Śląskie|    Katowice|                           1.0|                (7,[1],[1.0])|                        1.0|             (2,[1],[1.0])|            1.0| (5,[1],[1.0])|        [0.0, 1.0, 0.0, 0...|                          0.0|                                   1.0|                                          0.0|                                 0.0|                           0.0|                                  0.0|                         0.0|                                 NULL|               [0.0, 1.0]|                           0.0|                               1.0|                               NULL|[0.0, 1.0, 0.0, 0...|                0.0|           1.0|         0.0|              0.0|             0.0|                 NULL|\n",
            "|Mieszkanie  A.Cie...| 650000.0|ul. Augusta Ciesz...| 119.86|              5|     2/3|     do wykończenia|  gazowe|garaż/miejsce par...|                balkon|https://www.otodo...|Kujawsko-pomorskie|   Bydgoszcz|                           0.0|                (7,[0],[1.0])|                        1.0|             (2,[1],[1.0])|            1.0| (5,[1],[1.0])|        [1.0, 0.0, 0.0, 0...|                          1.0|                                   0.0|                                          0.0|                                 0.0|                           0.0|                                  0.0|                         0.0|                                 NULL|               [0.0, 1.0]|                           0.0|                               1.0|                               NULL|[0.0, 1.0, 0.0, 0...|                0.0|           1.0|         0.0|              0.0|             0.0|                 NULL|\n",
            "|Osiedle Wilno, mi...| 900000.0|ul. Montwiłłowska...|  64.64|              3|     2/3|    do zamieszkania|miejskie|garaż/miejsce par...|                balkon|https://www.otodo...|       Mazowieckie|    Warszawa|                           0.0|                (7,[0],[1.0])|                        0.0|             (2,[0],[1.0])|            0.0| (5,[0],[1.0])|        [1.0, 0.0, 0.0, 0...|                          1.0|                                   0.0|                                          0.0|                                 0.0|                           0.0|                                  0.0|                         0.0|                                 NULL|               [1.0, 0.0]|                           1.0|                               0.0|                               NULL|[1.0, 0.0, 0.0, 0...|                1.0|           0.0|         0.0|              0.0|             0.0|                 NULL|\n",
            "|Sprzedam nowe mie...| 629000.0|ul. Jana z Kolna,...|  65.86|              3|     1/3|     do wykończenia|miejskie|garaż/miejsce par...|                balkon|https://www.otodo...|         Pomorskie|     gdański|                           0.0|                (7,[0],[1.0])|                        1.0|             (2,[1],[1.0])|            0.0| (5,[0],[1.0])|        [1.0, 0.0, 0.0, 0...|                          1.0|                                   0.0|                                          0.0|                                 0.0|                           0.0|                                  0.0|                         0.0|                                 NULL|               [0.0, 1.0]|                           0.0|                               1.0|                               NULL|[1.0, 0.0, 0.0, 0...|                1.0|           0.0|         0.0|              0.0|             0.0|                 NULL|\n",
            "|Gotowe! klimatycz...| 965760.0|ul. Tadeusza Mikk...|  100.6|              5|     3/3|     do wykończenia|miejskie|garaż/miejsce par...|                balkon|https://www.otodo...|     Wielkopolskie|      Poznań|                           0.0|                (7,[0],[1.0])|                        1.0|             (2,[1],[1.0])|            0.0| (5,[0],[1.0])|        [1.0, 0.0, 0.0, 0...|                          1.0|                                   0.0|                                          0.0|                                 0.0|                           0.0|                                  0.0|                         0.0|                                 NULL|               [0.0, 1.0]|                           0.0|                               1.0|                               NULL|[1.0, 0.0, 0.0, 0...|                1.0|           0.0|         0.0|              0.0|             0.0|                 NULL|\n",
            "|3-pokojowe na spo...| 350000.0|ul. Kalinowa, Zab...|   60.0|              3|     4/4|    do zamieszkania|miejskie|garaż/miejsce par...|                balkon|https://www.otodo...|           Śląskie|      Zabrze|                           0.0|                (7,[0],[1.0])|                        0.0|             (2,[0],[1.0])|            0.0| (5,[0],[1.0])|        [1.0, 0.0, 0.0, 0...|                          1.0|                                   0.0|                                          0.0|                                 0.0|                           0.0|                                  0.0|                         0.0|                                 NULL|               [1.0, 0.0]|                           1.0|                               0.0|                               NULL|[1.0, 0.0, 0.0, 0...|                1.0|           0.0|         0.0|              0.0|             0.0|                 NULL|\n",
            "|2pok SIM Karolews...| 330000.0|ul. Karolewska, C...|   32.0|              2|parter/3|    do zamieszkania|  gazowe|garaż/miejsce par...|                balkon|https://www.otodo...|Kujawsko-pomorskie|   Bydgoszcz|                           0.0|                (7,[0],[1.0])|                        0.0|             (2,[0],[1.0])|            1.0| (5,[1],[1.0])|        [1.0, 0.0, 0.0, 0...|                          1.0|                                   0.0|                                          0.0|                                 0.0|                           0.0|                                  0.0|                         0.0|                                 NULL|               [1.0, 0.0]|                           1.0|                               0.0|                               NULL|[0.0, 1.0, 0.0, 0...|                0.0|           1.0|         0.0|              0.0|             0.0|                 NULL|\n",
            "|Nowe mieszkania -...| 389160.0|ul. Morelowa, Kos...|  43.24|              2|     1/2|     do wykończenia|    inne|garaż/miejsce par...|                balkon|https://www.otodo...|Zachodniopomorskie|    Koszalin|                           0.0|                (7,[0],[1.0])|                        1.0|             (2,[1],[1.0])|            2.0| (5,[2],[1.0])|        [1.0, 0.0, 0.0, 0...|                          1.0|                                   0.0|                                          0.0|                                 0.0|                           0.0|                                  0.0|                         0.0|                                 NULL|               [0.0, 1.0]|                           0.0|                               1.0|                               NULL|[0.0, 0.0, 1.0, 0...|                0.0|           0.0|         1.0|              0.0|             0.0|                 NULL|\n",
            "|Nowe mieszkania -...| 315540.0|ul. Morelowa, Kos...|  35.06|              2|     2/2|     do wykończenia|    inne|garaż/miejsce par...|                balkon|https://www.otodo...|Zachodniopomorskie|    Koszalin|                           0.0|                (7,[0],[1.0])|                        1.0|             (2,[1],[1.0])|            2.0| (5,[2],[1.0])|        [1.0, 0.0, 0.0, 0...|                          1.0|                                   0.0|                                          0.0|                                 0.0|                           0.0|                                  0.0|                         0.0|                                 NULL|               [0.0, 1.0]|                           0.0|                               1.0|                               NULL|[0.0, 0.0, 1.0, 0...|                0.0|           0.0|         1.0|              0.0|             0.0|                 NULL|\n",
            "|Nowe mieszkania -...| 315540.0|ul. Morelowa, Kos...|  35.06|              2|     1/2|     do wykończenia|    inne|garaż/miejsce par...|                balkon|https://www.otodo...|Zachodniopomorskie|    Koszalin|                           0.0|                (7,[0],[1.0])|                        1.0|             (2,[1],[1.0])|            2.0| (5,[2],[1.0])|        [1.0, 0.0, 0.0, 0...|                          1.0|                                   0.0|                                          0.0|                                 0.0|                           0.0|                                  0.0|                         0.0|                                 NULL|               [0.0, 1.0]|                           0.0|                               1.0|                               NULL|[0.0, 0.0, 1.0, 0...|                0.0|           0.0|         1.0|              0.0|             0.0|                 NULL|\n",
            "|IDEALNA INWESTYCJ...| 881000.0|Wiczlino, Gdynia,...|  74.91|              4|     3/3|    do zamieszkania|  gazowe|garaż/miejsce par...|                balkon|https://www.otodo...|         Pomorskie|      Gdynia|                           0.0|                (7,[0],[1.0])|                        0.0|             (2,[0],[1.0])|            1.0| (5,[1],[1.0])|        [1.0, 0.0, 0.0, 0...|                          1.0|                                   0.0|                                          0.0|                                 0.0|                           0.0|                                  0.0|                         0.0|                                 NULL|               [1.0, 0.0]|                           1.0|                               0.0|                               NULL|[0.0, 1.0, 0.0, 0...|                0.0|           1.0|         0.0|              0.0|             0.0|                 NULL|\n",
            "|Mieszkanie w Cent...| 350000.0|Śródmieście, Gliw...|   60.0|              3|  parter|     do wykończenia|miejskie|garaż/miejsce par...|               ogródek|https://www.otodo...|           Śląskie|     Gliwice|                           2.0|                (7,[2],[1.0])|                        1.0|             (2,[1],[1.0])|            0.0| (5,[0],[1.0])|        [0.0, 0.0, 1.0, 0...|                          0.0|                                   0.0|                                          1.0|                                 0.0|                           0.0|                                  0.0|                         0.0|                                 NULL|               [0.0, 1.0]|                           0.0|                               1.0|                               NULL|[1.0, 0.0, 0.0, 0...|                1.0|           0.0|         0.0|              0.0|             0.0|                 NULL|\n",
            "|Mieszkanie - Gdań...| 769000.0|ul. Joachima Lele...|  33.42|              1|     2/4|    do zamieszkania|miejskie|garaż/miejsce par...|                balkon|https://www.otodo...|         Pomorskie|      Gdańsk|                           0.0|                (7,[0],[1.0])|                        0.0|             (2,[0],[1.0])|            0.0| (5,[0],[1.0])|        [1.0, 0.0, 0.0, 0...|                          1.0|                                   0.0|                                          0.0|                                 0.0|                           0.0|                                  0.0|                         0.0|                                 NULL|               [1.0, 0.0]|                           1.0|                               0.0|                               NULL|[1.0, 0.0, 0.0, 0...|                1.0|           0.0|         0.0|              0.0|             0.0|                 NULL|\n",
            "|TORUŃ - ul. Czter...| 367000.0|Stawki, Toruń, ku...|   40.0|              2|     1/3|     do wykończenia|miejskie|garaż/miejsce par...|                balkon|https://www.otodo...|Kujawsko-pomorskie|       Toruń|                           0.0|                (7,[0],[1.0])|                        1.0|             (2,[1],[1.0])|            0.0| (5,[0],[1.0])|        [1.0, 0.0, 0.0, 0...|                          1.0|                                   0.0|                                          0.0|                                 0.0|                           0.0|                                  0.0|                         0.0|                                 NULL|               [0.0, 1.0]|                           0.0|                               1.0|                               NULL|[1.0, 0.0, 0.0, 0...|                1.0|           0.0|         0.0|              0.0|             0.0|                 NULL|\n",
            "+--------------------+---------+--------------------+-------+---------------+--------+-------------------+--------+--------------------+----------------------+--------------------+------------------+------------+------------------------------+-----------------------------+---------------------------+--------------------------+---------------+--------------+----------------------------+-----------------------------+--------------------------------------+---------------------------------------------+------------------------------------+------------------------------+-------------------------------------+----------------------------+-------------------------------------+-------------------------+------------------------------+----------------------------------+-----------------------------------+--------------------+-------------------+--------------+------------+-----------------+----------------+---------------------+\n",
            "only showing top 20 rows\n",
            "\n"
          ]
        }
      ]
    },
    {
      "cell_type": "code",
      "source": [
        "df_regr = df_cols_onehot.select(\n",
        "    \"Surface\",\n",
        "    \"Number_of_Rooms\",\n",
        "    \"Balcony_Garden_Terrace_balkon\",\n",
        "    \"Finishing_Condition_do wykończenia\",\n",
        "    \"Heating_gazowe\",\n",
        "    \"Price\"\n",
        ")"
      ],
      "metadata": {
        "id": "Vs-cBnx5c1F4"
      },
      "execution_count": null,
      "outputs": []
    },
    {
      "cell_type": "code",
      "source": [
        "df_regr.select([f.count(f.when(f.col(c).isNull(), c)).alias(c) for c in df_regr.columns]).show()"
      ],
      "metadata": {
        "colab": {
          "base_uri": "https://localhost:8080/"
        },
        "id": "kTkXiW_KxyQx",
        "outputId": "264a0df2-f1b7-4b75-9e1b-febf644c836c"
      },
      "execution_count": null,
      "outputs": [
        {
          "output_type": "stream",
          "name": "stdout",
          "text": [
            "+-------+---------------+-----------------------------+----------------------------------+--------------+-----+\n",
            "|Surface|Number_of_Rooms|Balcony_Garden_Terrace_balkon|Finishing_Condition_do wykończenia|Heating_gazowe|Price|\n",
            "+-------+---------------+-----------------------------+----------------------------------+--------------+-----+\n",
            "|      0|              1|                            0|                                 0|             0|    0|\n",
            "+-------+---------------+-----------------------------+----------------------------------+--------------+-----+\n",
            "\n"
          ]
        }
      ]
    },
    {
      "cell_type": "code",
      "source": [
        "df_regr_clean = df_regr.dropna(subset=[\"Number_of_Rooms\"])"
      ],
      "metadata": {
        "id": "s_Ytz03by5Ue"
      },
      "execution_count": null,
      "outputs": []
    },
    {
      "cell_type": "code",
      "source": [
        "df_regr_clean.show()"
      ],
      "metadata": {
        "colab": {
          "base_uri": "https://localhost:8080/"
        },
        "id": "vUFhaUIJx_kw",
        "outputId": "ad18b788-df86-4c24-d7cd-509b590687f4"
      },
      "execution_count": null,
      "outputs": [
        {
          "output_type": "stream",
          "name": "stdout",
          "text": [
            "+-------+---------------+-----------------------------+----------------------------------+--------------+---------+\n",
            "|Surface|Number_of_Rooms|Balcony_Garden_Terrace_balkon|Finishing_Condition_do wykończenia|Heating_gazowe|    Price|\n",
            "+-------+---------------+-----------------------------+----------------------------------+--------------+---------+\n",
            "|  105.0|              4|                          1.0|                               1.0|           0.0|2499000.0|\n",
            "|   49.2|              2|                          1.0|                               0.0|           0.0| 450180.0|\n",
            "|   76.4|              3|                          1.0|                               0.0|           0.0| 649000.0|\n",
            "|   45.0|              2|                          1.0|                               0.0|           0.0| 555000.0|\n",
            "|  62.52|              3|                          0.0|                               0.0|           0.0| 555000.0|\n",
            "|  63.95|              3|                          1.0|                               0.0|           0.0| 999999.0|\n",
            "|  121.8|              3|                          0.0|                               1.0|           1.0|2923000.0|\n",
            "| 119.86|              5|                          1.0|                               1.0|           1.0| 650000.0|\n",
            "|  64.64|              3|                          1.0|                               0.0|           0.0| 900000.0|\n",
            "|  65.86|              3|                          1.0|                               1.0|           0.0| 629000.0|\n",
            "|  100.6|              5|                          1.0|                               1.0|           0.0| 965760.0|\n",
            "|   60.0|              3|                          1.0|                               0.0|           0.0| 350000.0|\n",
            "|   32.0|              2|                          1.0|                               0.0|           1.0| 330000.0|\n",
            "|  43.24|              2|                          1.0|                               1.0|           0.0| 389160.0|\n",
            "|  35.06|              2|                          1.0|                               1.0|           0.0| 315540.0|\n",
            "|  35.06|              2|                          1.0|                               1.0|           0.0| 315540.0|\n",
            "|  74.91|              4|                          1.0|                               0.0|           1.0| 881000.0|\n",
            "|   60.0|              3|                          0.0|                               1.0|           0.0| 350000.0|\n",
            "|  33.42|              1|                          1.0|                               0.0|           0.0| 769000.0|\n",
            "|   40.0|              2|                          1.0|                               1.0|           0.0| 367000.0|\n",
            "+-------+---------------+-----------------------------+----------------------------------+--------------+---------+\n",
            "only showing top 20 rows\n",
            "\n"
          ]
        }
      ]
    },
    {
      "cell_type": "code",
      "source": [
        "from pyspark.ml.feature import VectorAssembler\n",
        "\n",
        "assembler = VectorAssembler(inputCols=df_regr_clean.columns[:-1], outputCol='features')\n",
        "\n",
        "data_set = assembler.transform(df_regr_clean)\n",
        "data_set = data_set.select(['features', 'Price'])\n",
        "data_set.show()"
      ],
      "metadata": {
        "id": "ruOn8MQ3c4Xp",
        "colab": {
          "base_uri": "https://localhost:8080/"
        },
        "outputId": "6a9aabae-ed1a-401f-a359-0f74222f20a6"
      },
      "execution_count": null,
      "outputs": [
        {
          "output_type": "stream",
          "name": "stdout",
          "text": [
            "+--------------------+---------+\n",
            "|            features|    Price|\n",
            "+--------------------+---------+\n",
            "|[105.0,4.0,1.0,1....|2499000.0|\n",
            "|[49.2,2.0,1.0,0.0...| 450180.0|\n",
            "|[76.4,3.0,1.0,0.0...| 649000.0|\n",
            "|[45.0,2.0,1.0,0.0...| 555000.0|\n",
            "|(5,[0,1],[62.52,3...| 555000.0|\n",
            "|[63.95,3.0,1.0,0....| 999999.0|\n",
            "|[121.8,3.0,0.0,1....|2923000.0|\n",
            "|[119.86,5.0,1.0,1...| 650000.0|\n",
            "|[64.64,3.0,1.0,0....| 900000.0|\n",
            "|[65.86,3.0,1.0,1....| 629000.0|\n",
            "|[100.6,5.0,1.0,1....| 965760.0|\n",
            "|[60.0,3.0,1.0,0.0...| 350000.0|\n",
            "|[32.0,2.0,1.0,0.0...| 330000.0|\n",
            "|[43.24,2.0,1.0,1....| 389160.0|\n",
            "|[35.06,2.0,1.0,1....| 315540.0|\n",
            "|[35.06,2.0,1.0,1....| 315540.0|\n",
            "|[74.91,4.0,1.0,0....| 881000.0|\n",
            "|[60.0,3.0,0.0,1.0...| 350000.0|\n",
            "|[33.42,1.0,1.0,0....| 769000.0|\n",
            "|[40.0,2.0,1.0,1.0...| 367000.0|\n",
            "+--------------------+---------+\n",
            "only showing top 20 rows\n",
            "\n"
          ]
        }
      ]
    },
    {
      "cell_type": "code",
      "source": [
        "train_data, test_data = data_set.randomSplit([0.8, 0.2])\n",
        "\n",
        "from pyspark.ml.regression import LinearRegression\n",
        "\n",
        "lr = LinearRegression(featuresCol=\"features\", labelCol='Price', regParam=0.1)\n",
        "\n",
        "lrModel = lr.fit(train_data)\n",
        "\n",
        "test_stats = lrModel.evaluate(test_data)\n",
        "\n",
        "print(f\"RMSE: {test_stats.rootMeanSquaredError}\")\n",
        "print(f\"R2: {test_stats.r2}\")\n",
        "print(f\"MSE: {test_stats.meanSquaredError}\")"
      ],
      "metadata": {
        "id": "a-ChxzAvc6Wp",
        "colab": {
          "base_uri": "https://localhost:8080/"
        },
        "outputId": "179d1a72-3c2e-45c9-ef70-ba2bdbdb5427"
      },
      "execution_count": null,
      "outputs": [
        {
          "output_type": "stream",
          "name": "stdout",
          "text": [
            "RMSE: 5309958.251514914\n",
            "R2: 0.011576375585929055\n",
            "MSE: 28195656632831.33\n"
          ]
        }
      ]
    },
    {
      "cell_type": "code",
      "source": [
        "df_regr_2 = df_cols_onehot.select(\n",
        "    \"Surface\",\n",
        "    \"Number_of_Rooms\",\n",
        "    \"Balcony_Garden_Terrace_ogródek, taras\",\n",
        "    \"Finishing_Condition_do remontu\",\n",
        "    \"Heating_elektryczne\",\n",
        "    \"Price\"\n",
        ")"
      ],
      "metadata": {
        "id": "R0XNYr1TzKMn"
      },
      "execution_count": null,
      "outputs": []
    },
    {
      "cell_type": "code",
      "source": [
        "df_regr_2.select([f.count(f.when(f.col(c).isNull(), c)).alias(c) for c in df_regr_2.columns]).show()"
      ],
      "metadata": {
        "colab": {
          "base_uri": "https://localhost:8080/"
        },
        "id": "6zLFK1YkzaCE",
        "outputId": "32ee0ec8-a28c-462b-d7cc-76cf38c3715b"
      },
      "execution_count": null,
      "outputs": [
        {
          "output_type": "stream",
          "name": "stdout",
          "text": [
            "+-------+---------------+-------------------------------------+------------------------------+-------------------+-----+\n",
            "|Surface|Number_of_Rooms|Balcony_Garden_Terrace_ogródek, taras|Finishing_Condition_do remontu|Heating_elektryczne|Price|\n",
            "+-------+---------------+-------------------------------------+------------------------------+-------------------+-----+\n",
            "|      0|              1|                                    0|                             0|                  0|    0|\n",
            "+-------+---------------+-------------------------------------+------------------------------+-------------------+-----+\n",
            "\n"
          ]
        }
      ]
    },
    {
      "cell_type": "code",
      "source": [
        "df_regr_2_clean = df_regr_2.dropna(subset=[\"Number_of_Rooms\"])"
      ],
      "metadata": {
        "id": "HsNwAYXszdJK"
      },
      "execution_count": null,
      "outputs": []
    },
    {
      "cell_type": "code",
      "source": [
        "from pyspark.ml.feature import VectorAssembler\n",
        "\n",
        "assembler = VectorAssembler(inputCols=df_regr_2_clean.columns[:-1], outputCol='features')\n",
        "\n",
        "data_set = assembler.transform(df_regr_2_clean)\n",
        "data_set = data_set.select(['features', 'Price'])\n",
        "data_set.show()"
      ],
      "metadata": {
        "colab": {
          "base_uri": "https://localhost:8080/"
        },
        "id": "qj6CYpypzind",
        "outputId": "164fa1b5-999a-49f0-f24a-f00cfda89237"
      },
      "execution_count": null,
      "outputs": [
        {
          "output_type": "stream",
          "name": "stdout",
          "text": [
            "+--------------------+---------+\n",
            "|            features|    Price|\n",
            "+--------------------+---------+\n",
            "|[105.0,4.0,0.0,0....|2499000.0|\n",
            "|[49.2,2.0,0.0,1.0...| 450180.0|\n",
            "|[76.4,3.0,0.0,1.0...| 649000.0|\n",
            "|[45.0,2.0,0.0,1.0...| 555000.0|\n",
            "|[62.52,3.0,0.0,1....| 555000.0|\n",
            "|[63.95,3.0,0.0,1....| 999999.0|\n",
            "|(5,[0,1],[121.8,3...|2923000.0|\n",
            "|(5,[0,1],[119.86,...| 650000.0|\n",
            "|[64.64,3.0,0.0,1....| 900000.0|\n",
            "|[65.86,3.0,0.0,0....| 629000.0|\n",
            "|[100.6,5.0,0.0,0....| 965760.0|\n",
            "|[60.0,3.0,0.0,1.0...| 350000.0|\n",
            "|[32.0,2.0,0.0,1.0...| 330000.0|\n",
            "|(5,[0,1],[43.24,2...| 389160.0|\n",
            "|(5,[0,1],[35.06,2...| 315540.0|\n",
            "|(5,[0,1],[35.06,2...| 315540.0|\n",
            "|[74.91,4.0,0.0,1....| 881000.0|\n",
            "|[60.0,3.0,0.0,0.0...| 350000.0|\n",
            "|[33.42,1.0,0.0,1....| 769000.0|\n",
            "|[40.0,2.0,0.0,0.0...| 367000.0|\n",
            "+--------------------+---------+\n",
            "only showing top 20 rows\n",
            "\n"
          ]
        }
      ]
    },
    {
      "cell_type": "code",
      "source": [
        "train_data, test_data = data_set.randomSplit([0.8, 0.2])\n",
        "\n",
        "lr = LinearRegression(featuresCol=\"features\", labelCol='Price', regParam=0.1)\n",
        "\n",
        "lrModel = lr.fit(train_data)\n",
        "\n",
        "test_stats = lrModel.evaluate(test_data)\n",
        "\n",
        "print(f\"RMSE: {test_stats.rootMeanSquaredError}\")\n",
        "print(f\"R2: {test_stats.r2}\")\n",
        "print(f\"MSE: {test_stats.meanSquaredError}\")"
      ],
      "metadata": {
        "id": "ESH42sLbzqaU",
        "outputId": "e4500700-2950-46f9-d082-44cd5cb673a4",
        "colab": {
          "base_uri": "https://localhost:8080/"
        }
      },
      "execution_count": null,
      "outputs": [
        {
          "output_type": "stream",
          "name": "stdout",
          "text": [
            "RMSE: 7032097.157257457\n",
            "R2: 0.023216103328202453\n",
            "MSE: 49450390429108.41\n"
          ]
        }
      ]
    }
  ]
}