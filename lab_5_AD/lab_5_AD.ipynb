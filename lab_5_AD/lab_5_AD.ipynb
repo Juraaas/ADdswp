{
  "nbformat": 4,
  "nbformat_minor": 0,
  "metadata": {
    "colab": {
      "provenance": []
    },
    "kernelspec": {
      "name": "python3",
      "display_name": "Python 3"
    },
    "language_info": {
      "name": "python"
    }
  },
  "cells": [
    {
      "cell_type": "code",
      "execution_count": 1,
      "metadata": {
        "colab": {
          "base_uri": "https://localhost:8080/"
        },
        "id": "dDG4SeJFvuJF",
        "outputId": "f1a37379-405d-4bc7-a1f6-dddf4539a8f7"
      },
      "outputs": [
        {
          "output_type": "stream",
          "name": "stdout",
          "text": [
            "Requirement already satisfied: pyspark in /usr/local/lib/python3.10/dist-packages (3.5.3)\n",
            "Requirement already satisfied: py4j==0.10.9.7 in /usr/local/lib/python3.10/dist-packages (from pyspark) (0.10.9.7)\n"
          ]
        }
      ],
      "source": [
        "!apt-get install openjdk-11-jdk-headless -qq > /dev/null\n",
        "!pip install pyspark"
      ]
    },
    {
      "cell_type": "code",
      "source": [
        "from pyspark.sql import SparkSession\n",
        "\n",
        "spark = SparkSession.builder \\\n",
        "    .master(\"local[*]\") \\\n",
        "    .appName(\"lab5\") \\\n",
        "    .getOrCreate()\n",
        "\n",
        "sc = spark.sparkContext"
      ],
      "metadata": {
        "colab": {
          "base_uri": "https://localhost:8080/"
        },
        "collapsed": true,
        "id": "R5KU2gUWwmbL",
        "outputId": "853f43ee-2216-49d0-dfac-1e85894ba4fe"
      },
      "execution_count": 2,
      "outputs": [
        {
          "output_type": "stream",
          "name": "stdout",
          "text": [
            "Spark Session initialized!\n",
            "Spark Version: 3.5.3\n"
          ]
        }
      ]
    },
    {
      "cell_type": "code",
      "source": [
        "!wget https://raw.githubusercontent.com/kropiak/uwm_analiza_duzych_zbiorow/refs/heads/main/lab_05/pan-tadeusz.txt"
      ],
      "metadata": {
        "colab": {
          "base_uri": "https://localhost:8080/"
        },
        "id": "Aacb84zhxDCt",
        "outputId": "2d2becbe-5a96-4d71-cf8a-4792c3fdab70"
      },
      "execution_count": 3,
      "outputs": [
        {
          "output_type": "stream",
          "name": "stdout",
          "text": [
            "--2024-11-25 14:40:28--  https://raw.githubusercontent.com/kropiak/uwm_analiza_duzych_zbiorow/refs/heads/main/lab_05/pan-tadeusz.txt\n",
            "Resolving raw.githubusercontent.com (raw.githubusercontent.com)... 185.199.108.133, 185.199.109.133, 185.199.110.133, ...\n",
            "Connecting to raw.githubusercontent.com (raw.githubusercontent.com)|185.199.108.133|:443... connected.\n",
            "HTTP request sent, awaiting response... 200 OK\n",
            "Length: 482907 (472K) [text/plain]\n",
            "Saving to: ‘pan-tadeusz.txt’\n",
            "\n",
            "pan-tadeusz.txt     100%[===================>] 471.59K  --.-KB/s    in 0.05s   \n",
            "\n",
            "2024-11-25 14:40:28 (10.0 MB/s) - ‘pan-tadeusz.txt’ saved [482907/482907]\n",
            "\n"
          ]
        }
      ]
    },
    {
      "cell_type": "code",
      "source": [
        "pan_tadeusz_file = sc.textFile(\"pan-tadeusz.txt\")\n",
        "\n",
        "lines_with_tadeusz = pan_tadeusz_file.filter(lambda line: 'tadeusz' in line.lower())\n",
        "tadeusz_count = lines_with_tadeusz.count()\n",
        "\n",
        "print(f\"Liczba linii zawierających słowo 'Tadeusz': {tadeusz_count}\")"
      ],
      "metadata": {
        "colab": {
          "base_uri": "https://localhost:8080/"
        },
        "id": "5HZqDDB9w0am",
        "outputId": "f07305c5-bdb7-43a7-f6db-48dd127cd23b"
      },
      "execution_count": 4,
      "outputs": [
        {
          "output_type": "stream",
          "name": "stdout",
          "text": [
            "Liczba linii zawierających słowo 'Tadeusz': 183\n"
          ]
        }
      ]
    },
    {
      "cell_type": "code",
      "source": [
        "top_3_lines = pan_tadeusz_file.top(3, key=lambda line: len(line))\n",
        "\n",
        "print(\"3 najdłuższe linie:\\n\")\n",
        "for line in top_3_lines:\n",
        "    print(line)"
      ],
      "metadata": {
        "colab": {
          "base_uri": "https://localhost:8080/"
        },
        "id": "x0pv4SEmxGmG",
        "outputId": "4666e6e3-18e6-4e20-9b8b-c5855d7e10d3"
      },
      "execution_count": 7,
      "outputs": [
        {
          "output_type": "stream",
          "name": "stdout",
          "text": [
            "3 najdłuższe linie:\n",
            "\n",
            "O niebezpieczeństwach wynikających z nieporządnego obozowania — Odsiecz niespodziana — Smutne położenie szlachty — Odwiedziny kwestarskie są wróżbą ratunku — Major Płut zbytnią zalotnością ściąga na siebie burzę — Wystrzał z krócicy, hasło boju — Czyny Kropiciela, czyny i niebezpieczeństwa Maćka — Konewka zasadzką ocala Soplicowo — Posiłki jezdne, atak na piechotę — Czyny Tadeusza — Pojedynek dowódców przerwany zdradą — Wojski stanowczym manewrem przechyla szalę boju — Czyny krwawe Gerwazego — Podkomorzy zwycięzca wspaniałomyślny.\n",
            "Plany myśliwskie Telimeny — Ogrodniczka wybiera się na wielki świat i słucha nauk opiekunki — Strzelcy wracają — Wielkie zadziwienie Tadeusza — Spotkanie się powtórne w Świątyni dumania i zgoda ułatwiona za pośrednictwem mrówek — U stołu wytacza się rzecz o łowach — Powieść Wojskiego o Rejtanie i księciu Denassów, przerwana — Zagajenie układów między stronami, także przerwane — Zjawisko z kluczem — Kłótnia — Hrabia z Gerwazym odbywają radę wojenną.\n",
            "Zjawisko w papilotach budzi Tadeusza — Za późne postrzeżenie omyłki — Karczma — Emisariusz — Zręczne użycie tabakiery zwraca dyskusję na właściwą drogę — Matecznik — Niedźwiedź — Niebezpieczeństwo Tadeusza i Hrabiego — Trzy strzały — Spór Sagalasówki z Sanguszkówką rozstrzygniony na stronę jednorurki horeszkowskiej — Bigos — Wojskiego powieść o pojedynku Doweyki z Domeyką przerwana szczuciem kota — Koniec powieści o Doweyce i Domeyce.\n"
          ]
        }
      ]
    },
    {
      "cell_type": "code",
      "source": [
        "import re\n",
        "import json\n",
        "import urllib.request\n",
        "\n",
        "stopwords_url = \"https://raw.githubusercontent.com/bieli/stopwords/master/polish.stopwords.txt\"\n",
        "stopwords_response = urllib.request.urlopen(stopwords_url)\n",
        "stopwords = set(stopwords_response.read().decode().splitlines())\n",
        "\n",
        "def clean_line(line):\n",
        "    words = re.sub(r'[^\\w\\s]', '', line.lower()).split()\n",
        "    return [word for word in words if word not in stopwords and len(word) > 1]\n",
        "\n",
        "clean_words = pan_tadeusz_file.flatMap(clean_line)\n",
        "word_counts = clean_words.map(lambda word: (word, 1)).reduceByKey(lambda a, b: a + b)\n",
        "\n",
        "word_count_dict = word_counts.collectAsMap()\n",
        "with open(\"pan_tadeusz_bag_of_words.json\", \"w\", encoding=\"utf-8\") as json_file:\n",
        "    json.dump(word_count_dict, json_file, ensure_ascii=False, indent=4)\n",
        "\n",
        "most_common_word = word_counts.takeOrdered(1, key=lambda x: -x[1])[0]\n",
        "print(f\"Najczęściej występujące słowo: '{most_common_word[0]}', występuje {most_common_word[1]} razy.\")"
      ],
      "metadata": {
        "colab": {
          "base_uri": "https://localhost:8080/"
        },
        "id": "JknUQp64x1Jg",
        "outputId": "1352b0fe-ad58-427a-8a54-4ce8941bb51e"
      },
      "execution_count": 8,
      "outputs": [
        {
          "output_type": "stream",
          "name": "stdout",
          "text": [
            "Najczęściej występujące słowo: 'rzekł', występuje 155 razy.\n"
          ]
        }
      ]
    }
  ]
}