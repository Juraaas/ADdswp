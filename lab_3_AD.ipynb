{
  "nbformat": 4,
  "nbformat_minor": 0,
  "metadata": {
    "colab": {
      "provenance": []
    },
    "kernelspec": {
      "name": "python3",
      "display_name": "Python 3"
    },
    "language_info": {
      "name": "python"
    }
  },
  "cells": [
    {
      "cell_type": "markdown",
      "source": [
        "# Zadanie 1"
      ],
      "metadata": {
        "id": "Fjp86ns2fztb"
      }
    },
    {
      "cell_type": "code",
      "source": [
        "import tarfile\n",
        "import os\n",
        "\n",
        "tar_gz_file = '/content/Zookeeper.tar.gz'\n",
        "output_dir = '/content/'\n",
        "\n",
        "os.makedirs(output_dir, exist_ok=True)\n",
        "\n",
        "with tarfile.open(tar_gz_file, 'r:gz') as tar:\n",
        "    tar.extractall(path=output_dir)"
      ],
      "metadata": {
        "id": "esN7OtAUgwRi"
      },
      "execution_count": null,
      "outputs": []
    },
    {
      "cell_type": "code",
      "source": [
        "import dask\n",
        "from dask import delayed\n",
        "import dask.dataframe as dd\n",
        "import pandas as pd\n",
        "from datetime import datetime\n",
        "\n",
        "log_file = '/content/Zookeeper.log'\n",
        "\n",
        "def parse_line(line):\n",
        "    record = {}\n",
        "\n",
        "    parts = line.split(' - ')\n",
        "    if len(parts) < 3:\n",
        "        return None\n",
        "\n",
        "    datetime_part = parts[0]\n",
        "    level_part = parts[1].strip()\n",
        "    context_part = parts[2].strip()\n",
        "    message_part = ' - '.join(parts[3:]).strip()\n",
        "\n",
        "    record[\"date\"] = datetime_part\n",
        "    record[\"level\"] = level_part\n",
        "    record[\"context\"] = context_part\n",
        "    record[\"message\"] = message_part\n",
        "\n",
        "    return record\n",
        "\n",
        "def convert_date(record):\n",
        "    try:\n",
        "        record[\"date\"] = datetime.strptime(record[\"date\"], \"%Y-%m-%d %H:%M:%S,%f\")\n",
        "    except ValueError as e:\n",
        "        print(f\"Error parsing date: {record['date']}. Error: {e}\")\n",
        "        record[\"date\"] = None\n",
        "    return record\n",
        "\n",
        "@delayed\n",
        "def process_log_file(log_file):\n",
        "    output = []\n",
        "    with open(log_file, 'r') as file:\n",
        "        for line in file:\n",
        "            record = parse_line(line)\n",
        "            if record:\n",
        "                record = convert_date(record)\n",
        "                output.append(record)\n",
        "    return output\n",
        "\n",
        "log_records = process_log_file(log_file)\n",
        "log_records_computed = log_records.compute()\n",
        "\n",
        "df = pd.DataFrame(log_records_computed, columns=[\"date\", \"level\", \"context\", \"message\"])\n",
        "print(df.head(20))\n",
        "\n",
        "df_dask = dd.from_pandas(df, npartitions=10)\n",
        "df_dask.to_parquet('logs.parquet')"
      ],
      "metadata": {
        "colab": {
          "base_uri": "https://localhost:8080/"
        },
        "id": "v95Sv8v6iVMi",
        "outputId": "3c00a82c-8b20-436f-a4a2-a19dfcb817ca"
      },
      "execution_count": null,
      "outputs": [
        {
          "output_type": "stream",
          "name": "stdout",
          "text": [
            "                      date                                              level  \\\n",
            "0  2015-07-29 17:41:41.536                  INFO  [main:QuorumPeerConfig@101]   \n",
            "1  2015-07-29 17:41:41.544                  INFO  [main:QuorumPeerConfig@334]   \n",
            "2  2015-07-29 17:41:41.555              INFO  [main:DatadirCleanupManager@78]   \n",
            "3  2015-07-29 17:41:41.555              INFO  [main:DatadirCleanupManager@79]   \n",
            "4  2015-07-29 17:41:41.557             INFO  [main:DatadirCleanupManager@101]   \n",
            "5  2015-07-29 17:41:41.579                    INFO  [main:QuorumPeerMain@127]   \n",
            "6  2015-07-29 17:41:41.609               INFO  [main:NIOServerCnxnFactory@94]   \n",
            "7  2015-07-29 17:41:41.648                        INFO  [main:QuorumPeer@913]   \n",
            "8  2015-07-29 17:41:41.649                        INFO  [main:QuorumPeer@933]   \n",
            "9  2015-07-29 17:41:41.649                        INFO  [main:QuorumPeer@944]   \n",
            "10 2015-07-29 17:41:41.649                        INFO  [main:QuorumPeer@959]   \n",
            "11 2015-07-29 17:41:41.680                        INFO  [main:QuorumPeer@429]   \n",
            "12 2015-07-29 17:41:41.683                        INFO  [main:QuorumPeer@444]   \n",
            "13 2015-07-29 17:41:41.692     INFO  [Thread-1:QuorumCnxManager$Listener@486]   \n",
            "14 2015-07-29 17:41:41.714  INFO  [QuorumPeer[myid=1]/0:0:0:0:0:0:0:0:2181...   \n",
            "15 2015-07-29 17:41:41.719  INFO  [QuorumPeer[myid=1]/0:0:0:0:0:0:0:0:2181...   \n",
            "16 2015-07-29 17:41:41.728  INFO  [WorkerReceiver[myid=1]:FastLeaderElecti...   \n",
            "17 2015-07-29 17:41:41.733  WARN  [WorkerSender[myid=1]:QuorumCnxManager@368]   \n",
            "18 2015-07-29 17:41:41.738  WARN  [WorkerSender[myid=1]:QuorumCnxManager@368]   \n",
            "19 2015-07-29 17:41:41.932  WARN  [QuorumPeer[myid=1]/0:0:0:0:0:0:0:0:2181...   \n",
            "\n",
            "                                              context message  \n",
            "0   Reading configuration from: /etc/zookeeper/con...          \n",
            "1                      Defaulting to majority quorums          \n",
            "2                  autopurge.snapRetainCount set to 3          \n",
            "3                    autopurge.purgeInterval set to 0          \n",
            "4                        Purge task is not scheduled.          \n",
            "5                                Starting quorum peer          \n",
            "6                binding to port 0.0.0.0/0.0.0.0:2181          \n",
            "7                                tickTime set to 2000          \n",
            "8                         minSessionTimeout set to -1          \n",
            "9                         maxSessionTimeout set to -1          \n",
            "10                                initLimit set to 10          \n",
            "11  currentEpoch not found! Creating with a reason...          \n",
            "12  acceptedEpoch not found! Creating with a reaso...          \n",
            "13        My election bind port: 0.0.0.0/0.0.0.0:3888          \n",
            "14                                            LOOKING          \n",
            "15        New election. My id =  1, proposed zxid=0x0          \n",
            "16  Notification: 1 (n.leader), 0x0 (n.zxid), 0x1 ...          \n",
            "17  Cannot open channel to 2 at election address /...          \n",
            "18  Cannot open channel to 3 at election address /...          \n",
            "19  Cannot open channel to 2 at election address /...          \n"
          ]
        }
      ]
    },
    {
      "cell_type": "markdown",
      "source": [
        "# Zadanie 2"
      ],
      "metadata": {
        "id": "S-KZD3otHTPX"
      }
    },
    {
      "cell_type": "code",
      "source": [
        "!pip install mimesis"
      ],
      "metadata": {
        "colab": {
          "base_uri": "https://localhost:8080/"
        },
        "id": "N_g6EjmqkW6g",
        "outputId": "ca8a762e-6552-413d-fd75-1b85e471bd48"
      },
      "execution_count": null,
      "outputs": [
        {
          "output_type": "stream",
          "name": "stdout",
          "text": [
            "Collecting mimesis\n",
            "  Downloading mimesis-18.0.0-py3-none-any.whl.metadata (5.7 kB)\n",
            "Downloading mimesis-18.0.0-py3-none-any.whl (4.7 MB)\n",
            "\u001b[?25l   \u001b[90m━━━━━━━━━━━━━━━━━━━━━━━━━━━━━━━━━━━━━━━━\u001b[0m \u001b[32m0.0/4.7 MB\u001b[0m \u001b[31m?\u001b[0m eta \u001b[36m-:--:--\u001b[0m\r\u001b[2K   \u001b[91m━\u001b[0m\u001b[90m╺\u001b[0m\u001b[90m━━━━━━━━━━━━━━━━━━━━━━━━━━━━━━━━━━━━━━\u001b[0m \u001b[32m0.1/4.7 MB\u001b[0m \u001b[31m4.0 MB/s\u001b[0m eta \u001b[36m0:00:02\u001b[0m\r\u001b[2K   \u001b[91m━━━━━━━━\u001b[0m\u001b[91m╸\u001b[0m\u001b[90m━━━━━━━━━━━━━━━━━━━━━━━━━━━━━━━\u001b[0m \u001b[32m1.0/4.7 MB\u001b[0m \u001b[31m15.0 MB/s\u001b[0m eta \u001b[36m0:00:01\u001b[0m\r\u001b[2K   \u001b[91m━━━━━━━━━━━━━━━━━\u001b[0m\u001b[91m╸\u001b[0m\u001b[90m━━━━━━━━━━━━━━━━━━━━━━\u001b[0m \u001b[32m2.1/4.7 MB\u001b[0m \u001b[31m22.2 MB/s\u001b[0m eta \u001b[36m0:00:01\u001b[0m\r\u001b[2K   \u001b[91m━━━━━━━━━━━━━━━━━━━━━━━━━━━━━━━━━━━━━━━\u001b[0m\u001b[91m╸\u001b[0m \u001b[32m4.7/4.7 MB\u001b[0m \u001b[31m34.1 MB/s\u001b[0m eta \u001b[36m0:00:01\u001b[0m\r\u001b[2K   \u001b[90m━━━━━━━━━━━━━━━━━━━━━━━━━━━━━━━━━━━━━━━━\u001b[0m \u001b[32m4.7/4.7 MB\u001b[0m \u001b[31m28.3 MB/s\u001b[0m eta \u001b[36m0:00:00\u001b[0m\n",
            "\u001b[?25hInstalling collected packages: mimesis\n",
            "Successfully installed mimesis-18.0.0\n"
          ]
        }
      ]
    },
    {
      "cell_type": "code",
      "source": [
        "import dask.bag as db\n",
        "import json\n",
        "import os\n",
        "from dask.datasets import make_people\n",
        "\n",
        "people_bag = make_people(npartitions=10, records_per_partition=1000, seed=None, locale=\"en\")\n",
        "\n",
        "def is_credit_card_expired(record):\n",
        "    expiration_date = record.get(\"credit-card\", {}).get(\"expiration-date\", \"\")\n",
        "    if expiration_date:\n",
        "        month, year = map(int, expiration_date.split(\"/\"))\n",
        "        return (year < 2024) or (year == 2024 and month < 10)\n",
        "    return False\n",
        "\n",
        "expired_records = people_bag.filter(is_credit_card_expired)\n",
        "\n",
        "output_path = '/content/expired_*.json'\n",
        "expired_records.map(json.dumps).to_textfiles(output_path)\n",
        "\n",
        "for i in range(10):\n",
        "    file_path = f'/content/expired_{i}.json'\n",
        "    if os.path.exists(file_path):\n",
        "        print(f\"Contents of {file_path}:\")\n",
        "        with open(file_path, 'r') as f:\n",
        "            for _ in range(5):\n",
        "                print(json.loads(f.readline().strip()))\n",
        "    else:\n",
        "        print(f'File {file_path} does not exist.')"
      ],
      "metadata": {
        "colab": {
          "base_uri": "https://localhost:8080/"
        },
        "id": "6fjZ7wdOGITp",
        "outputId": "4259d372-86f1-496c-d7ee-4e417a7416a3"
      },
      "execution_count": 56,
      "outputs": [
        {
          "output_type": "stream",
          "name": "stdout",
          "text": [
            "Contents of /content/expired_0.json:\n",
            "{'age': 45, 'name': ['Yasuko', 'Riggs'], 'occupation': 'Illustrator', 'telephone': '+14587921982', 'address': {'address': '721 Warner Garden', 'city': 'Evergreen Park'}, 'credit-card': {'number': '2561 3664 2094 4771', 'expiration-date': '04/18'}}\n",
            "{'age': 85, 'name': ['Hee', 'Chambers'], 'occupation': 'Television Producer', 'telephone': '+14790937260', 'address': {'address': '867 Perry Junction', 'city': 'Weirton'}, 'credit-card': {'number': '5565 6050 2320 5430', 'expiration-date': '11/20'}}\n",
            "{'age': 91, 'name': ['Kittie', 'Cote'], 'occupation': 'Paint Consultant', 'telephone': '+1-831-057-9514', 'address': {'address': '304 Acorn Lake', 'city': 'Fountain Valley'}, 'credit-card': {'number': '3741 581923 69761', 'expiration-date': '08/22'}}\n",
            "{'age': 115, 'name': ['Rosana', 'Juarez'], 'occupation': 'Sheriff', 'telephone': '+1-903-161-7259', 'address': {'address': '913 Rosewood Garden', 'city': 'Conroe'}, 'credit-card': {'number': '5477 1136 4190 3475', 'expiration-date': '07/21'}}\n",
            "{'age': 70, 'name': ['Jame', 'Wooten'], 'occupation': 'Spring Maker', 'telephone': '+19571381557', 'address': {'address': '1024 Spooner Route', 'city': 'Apache Junction'}, 'credit-card': {'number': '4563 5232 5839 2499', 'expiration-date': '03/19'}}\n",
            "Contents of /content/expired_1.json:\n",
            "{'age': 23, 'name': ['Luis', 'Williamson'], 'occupation': 'Stenographer', 'telephone': '+1-337-149-4372', 'address': {'address': '382 Newton Spur', 'city': 'Greenbelt'}, 'credit-card': {'number': '4812 5974 2257 4074', 'expiration-date': '08/21'}}\n",
            "{'age': 101, 'name': ['Catheryn', 'Cash'], 'occupation': 'Training Assistant', 'telephone': '+19477297113', 'address': {'address': '1360 Ecker Crossing', 'city': 'Jamestown'}, 'credit-card': {'number': '4748 0316 1282 9238', 'expiration-date': '02/23'}}\n",
            "{'age': 47, 'name': ['Murray', 'Garner'], 'occupation': 'Boat Builder', 'telephone': '+1-575-275-6942', 'address': {'address': '1017 King Bayou', 'city': 'Monterey'}, 'credit-card': {'number': '3435 365032 38197', 'expiration-date': '10/22'}}\n",
            "{'age': 105, 'name': ['Karl', 'Robinson'], 'occupation': 'Plant Fitter', 'telephone': '+1-217-659-1430', 'address': {'address': '963 Mandalay Field', 'city': 'Spanish Fork'}, 'credit-card': {'number': '5211 7456 0092 3282', 'expiration-date': '07/20'}}\n",
            "{'age': 72, 'name': ['Roy', 'Merrill'], 'occupation': 'China Restorer', 'telephone': '+18488319671', 'address': {'address': '106 Harold Canyon', 'city': 'Lino Lakes'}, 'credit-card': {'number': '2702 7916 6662 6982', 'expiration-date': '12/23'}}\n",
            "Contents of /content/expired_2.json:\n",
            "{'age': 92, 'name': ['Liberty', 'Jensen'], 'occupation': 'Quality Controller', 'telephone': '+12169703251', 'address': {'address': '797 Lobos Spur', 'city': 'La Cañada Flintridge'}, 'credit-card': {'number': '3747 616940 75453', 'expiration-date': '09/25'}}\n",
            "{'age': 49, 'name': ['Patrick', 'Christian'], 'occupation': 'Nanny', 'telephone': '+1-617-114-2106', 'address': {'address': '211 Osage Landing', 'city': 'Anaheim'}, 'credit-card': {'number': '4244 2724 6022 3624', 'expiration-date': '04/21'}}\n",
            "{'age': 107, 'name': ['Elmo', 'Buckley'], 'occupation': 'Golf Club Professional', 'telephone': '+1-352-431-5758', 'address': {'address': '1022 Meade Junction', 'city': 'Hermosa Beach'}, 'credit-card': {'number': '4580 1321 2616 7528', 'expiration-date': '02/24'}}\n",
            "{'age': 39, 'name': ['Victor', 'Sosa'], 'occupation': 'Security Officer', 'telephone': '+1-503-756-3728', 'address': {'address': '1086 Yukon Gardens', 'city': 'Eustis'}, 'credit-card': {'number': '3429 633936 44287', 'expiration-date': '11/19'}}\n",
            "{'age': 59, 'name': ['Mathew', 'Russo'], 'occupation': 'Administrator', 'telephone': '+19167851739', 'address': {'address': '291 Rolph Ferry', 'city': 'Van Buren'}, 'credit-card': {'number': '5103 8882 5052 8802', 'expiration-date': '08/20'}}\n",
            "Contents of /content/expired_3.json:\n",
            "{'age': 46, 'name': ['Bell', 'Barlow'], 'occupation': 'Youth Worker', 'telephone': '+15737835048', 'address': {'address': '740 Belgrave Bayou', 'city': 'Sioux City'}, 'credit-card': {'number': '2244 6485 8940 1700', 'expiration-date': '06/21'}}\n",
            "{'age': 5, 'name': ['Soraya', 'Carr'], 'occupation': 'Supply Teacher', 'telephone': '+19035054767', 'address': {'address': '1153 Dorado Plaza', 'city': 'Snellville'}, 'credit-card': {'number': '3727 799109 27895', 'expiration-date': '01/20'}}\n",
            "{'age': 4, 'name': ['Nakisha', 'Shields'], 'occupation': 'Meter Reader', 'telephone': '+1-206-338-8864', 'address': {'address': '533 Walbridge Pass', 'city': 'Oregon'}, 'credit-card': {'number': '2642 4585 2183 8664', 'expiration-date': '06/20'}}\n",
            "{'age': 120, 'name': ['Melodee', 'Wiggins'], 'occupation': 'Nanny', 'telephone': '+17529460798', 'address': {'address': '1156 Juan Bautista Alley', 'city': 'Bethany'}, 'credit-card': {'number': '5306 8416 7102 3007', 'expiration-date': '01/18'}}\n",
            "{'age': 91, 'name': ['Francisco', 'Baker'], 'occupation': 'Advertising Contractor', 'telephone': '+1-502-326-4755', 'address': {'address': '905 Bertha Motorway', 'city': 'Salinas'}, 'credit-card': {'number': '2225 7059 6825 6536', 'expiration-date': '04/23'}}\n",
            "Contents of /content/expired_4.json:\n",
            "{'age': 41, 'name': ['Trinity', 'Nash'], 'occupation': 'Moneylender', 'telephone': '+1-614-062-8114', 'address': {'address': '672 Torrens Lane', 'city': 'Pullman'}, 'credit-card': {'number': '5429 1103 5012 2767', 'expiration-date': '12/19'}}\n",
            "{'age': 66, 'name': ['Karey', 'Hoover'], 'occupation': 'Cable TV Installer', 'telephone': '+12788316927', 'address': {'address': '216 Canby Avenue', 'city': 'Reedley'}, 'credit-card': {'number': '5139 5652 4948 9944', 'expiration-date': '04/25'}}\n",
            "{'age': 82, 'name': ['Hilde', 'Perez'], 'occupation': 'Guest House Proprietor', 'telephone': '+1-512-415-0984', 'address': {'address': '481 Mesa Avenue', 'city': 'Carmel'}, 'credit-card': {'number': '4393 0731 2820 7770', 'expiration-date': '01/22'}}\n",
            "{'age': 36, 'name': ['Mckinley', 'Brewer'], 'occupation': 'Building Advisor', 'telephone': '+1-660-659-3446', 'address': {'address': '277 Dunsmuir Square', 'city': 'Salina'}, 'credit-card': {'number': '4066 8379 4637 2636', 'expiration-date': '11/20'}}\n",
            "{'age': 80, 'name': ['Raelene', 'Ayers'], 'occupation': 'Circus Worker', 'telephone': '+14045837955', 'address': {'address': '873 Holly Park Route', 'city': 'Pembroke Pines'}, 'credit-card': {'number': '2234 9758 2365 8080', 'expiration-date': '11/16'}}\n",
            "Contents of /content/expired_5.json:\n",
            "{'age': 92, 'name': ['William', 'Mathews'], 'occupation': 'Homecare Manager', 'telephone': '+13318569286', 'address': {'address': '102 Wetmore Ferry', 'city': 'Janesville'}, 'credit-card': {'number': '3498 255878 41305', 'expiration-date': '12/18'}}\n",
            "{'age': 6, 'name': ['Delbert', 'Estes'], 'occupation': 'Operations', 'telephone': '+16676727139', 'address': {'address': '697 Toyon Run', 'city': 'Sarasota'}, 'credit-card': {'number': '2665 5653 3265 1987', 'expiration-date': '08/19'}}\n",
            "{'age': 99, 'name': ['Shelton', 'Russo'], 'occupation': 'Television Presenter', 'telephone': '+1-915-129-5925', 'address': {'address': '1097 Juri Court', 'city': 'Winter Haven'}, 'credit-card': {'number': '4104 4497 8438 4766', 'expiration-date': '11/16'}}\n",
            "{'age': 107, 'name': ['Sanda', 'Herrera'], 'occupation': 'Ambulance Crew', 'telephone': '+19130077134', 'address': {'address': '1281 Hernandez Avenue', 'city': 'Steubenville'}, 'credit-card': {'number': '3470 082156 45594', 'expiration-date': '12/21'}}\n",
            "{'age': 74, 'name': ['Lynell', 'Griffith'], 'occupation': 'Plant Driver', 'telephone': '+13399061242', 'address': {'address': '283 Jansen Loop', 'city': 'Bowie'}, 'credit-card': {'number': '3773 129223 63514', 'expiration-date': '06/24'}}\n",
            "Contents of /content/expired_6.json:\n",
            "{'age': 17, 'name': ['Robby', 'Snow'], 'occupation': 'Tax Advisor', 'telephone': '+14156522173', 'address': {'address': '284 Shannon Station', 'city': 'Clemmons'}, 'credit-card': {'number': '4488 7299 5373 1137', 'expiration-date': '01/22'}}\n",
            "{'age': 61, 'name': ['Wally', 'Farmer'], 'occupation': 'Resin Caster', 'telephone': '+1-927-969-1501', 'address': {'address': '1169 Mallorca Grove', 'city': 'Missouri City'}, 'credit-card': {'number': '4636 9496 8139 0284', 'expiration-date': '01/18'}}\n",
            "{'age': 107, 'name': ['Gwenn', 'Carson'], 'occupation': 'Legal Advisor', 'telephone': '+1-425-801-4330', 'address': {'address': '507 Columbia Square Cove', 'city': 'East Moline'}, 'credit-card': {'number': '3732 360026 51502', 'expiration-date': '01/25'}}\n",
            "{'age': 117, 'name': ['Dan', 'Gallegos'], 'occupation': 'Proof Reader', 'telephone': '+1-515-058-1853', 'address': {'address': '70 Omar Annex', 'city': 'Post Falls'}, 'credit-card': {'number': '3415 582178 22910', 'expiration-date': '06/25'}}\n",
            "{'age': 90, 'name': ['Jack', 'Scott'], 'occupation': 'Furniture Remover', 'telephone': '+12403432397', 'address': {'address': '1165 Jones Point', 'city': 'Rogers'}, 'credit-card': {'number': '2328 3567 7613 7645', 'expiration-date': '12/24'}}\n",
            "Contents of /content/expired_7.json:\n",
            "{'age': 37, 'name': ['Tereasa', 'Hunter'], 'occupation': 'Mattress Maker', 'telephone': '+1-315-740-3187', 'address': {'address': '605 Sunbeam Run', 'city': 'Fort Myers'}, 'credit-card': {'number': '5330 8471 1592 0864', 'expiration-date': '02/23'}}\n",
            "{'age': 64, 'name': ['Corazon', 'Keith'], 'occupation': 'Ice Cream Vendor', 'telephone': '+15860239445', 'address': {'address': '1096 Lake Forest Spur', 'city': 'Bonney Lake'}, 'credit-card': {'number': '4486 9063 5673 7489', 'expiration-date': '06/17'}}\n",
            "{'age': 57, 'name': ['Boyce', 'Becker'], 'occupation': 'Shop Assistant', 'telephone': '+18785079685', 'address': {'address': '133 May Freeway', 'city': 'Winter Park'}, 'credit-card': {'number': '3407 908813 99971', 'expiration-date': '11/16'}}\n",
            "{'age': 33, 'name': ['Ashanti', 'Morris'], 'occupation': 'Bakery Assistant', 'telephone': '+1-708-739-1535', 'address': {'address': '77 Tioga Ranch', 'city': 'Bryan'}, 'credit-card': {'number': '3431 425804 88498', 'expiration-date': '08/19'}}\n",
            "{'age': 68, 'name': ['Janise', 'Witt'], 'occupation': 'Home Economist', 'telephone': '+17747748870', 'address': {'address': '979 Fillmore Square', 'city': 'Pontiac'}, 'credit-card': {'number': '3479 074819 63666', 'expiration-date': '04/18'}}\n",
            "Contents of /content/expired_8.json:\n",
            "{'age': 115, 'name': ['Sharice', 'Osborne'], 'occupation': 'Knitter', 'telephone': '+14126145280', 'address': {'address': '1394 Lysette Shore', 'city': 'San Diego'}, 'credit-card': {'number': '3773 997893 07197', 'expiration-date': '09/19'}}\n",
            "{'age': 87, 'name': ['Shay', 'Ashley'], 'occupation': 'Stage Manager', 'telephone': '+1-339-440-3229', 'address': {'address': '429 Zanowitz Shore', 'city': 'North Olmsted'}, 'credit-card': {'number': '3409 867097 72767', 'expiration-date': '06/16'}}\n",
            "{'age': 109, 'name': ['Cristobal', 'Chambers'], 'occupation': 'Pools Collector', 'telephone': '+1-850-575-0500', 'address': {'address': '1279 Fratessa Annex', 'city': 'Midlothian'}, 'credit-card': {'number': '3793 544901 25147', 'expiration-date': '10/22'}}\n",
            "{'age': 40, 'name': ['Merissa', 'Buckner'], 'occupation': 'Paramedic', 'telephone': '+15864881833', 'address': {'address': '227 Tehama Highway', 'city': 'Sterling Heights'}, 'credit-card': {'number': '3718 040365 15845', 'expiration-date': '10/23'}}\n",
            "{'age': 58, 'name': ['Hisako', 'Watts'], 'occupation': 'Map Mounter', 'telephone': '+1-317-444-2221', 'address': {'address': '335 Alma Turnpike', 'city': 'San Jose'}, 'credit-card': {'number': '4883 1629 9694 7398', 'expiration-date': '04/22'}}\n",
            "Contents of /content/expired_9.json:\n",
            "{'age': 101, 'name': ['Alverta', 'Mays'], 'occupation': 'Radio Operator', 'telephone': '+1-661-196-6346', 'address': {'address': '932 Andrew Place', 'city': 'Sulphur'}, 'credit-card': {'number': '3709 644241 05962', 'expiration-date': '05/22'}}\n",
            "{'age': 116, 'name': ['Un', 'Howe'], 'occupation': 'Weaver', 'telephone': '+1-541-170-2801', 'address': {'address': '636 Islais Freeway', 'city': 'Glendora'}, 'credit-card': {'number': '3786 112009 41233', 'expiration-date': '01/24'}}\n",
            "{'age': 116, 'name': ['Arlen', 'Spence'], 'occupation': 'Wholesale Newspaper', 'telephone': '+1-475-528-5313', 'address': {'address': '226 Albatross Pike', 'city': 'Phenix City'}, 'credit-card': {'number': '4052 8531 6955 9250', 'expiration-date': '05/24'}}\n",
            "{'age': 92, 'name': ['Harry', 'Terry'], 'occupation': 'Repairer', 'telephone': '+1-941-408-5250', 'address': {'address': '872 Karen Place', 'city': 'New York'}, 'credit-card': {'number': '3436 346119 83885', 'expiration-date': '11/16'}}\n",
            "{'age': 58, 'name': ['Terrance', 'Roberson'], 'occupation': 'Script Writer', 'telephone': '+1-475-337-6925', 'address': {'address': '900 West Pine', 'city': 'Canton'}, 'credit-card': {'number': '5374 8605 6597 3587', 'expiration-date': '05/24'}}\n"
          ]
        }
      ]
    },
    {
      "cell_type": "markdown",
      "source": [
        "# Zadanie 3"
      ],
      "metadata": {
        "id": "4DYsqDekHQPv"
      }
    },
    {
      "cell_type": "code",
      "source": [
        "import dask.bag as db\n",
        "import dask.dataframe as dd\n",
        "from dask.datasets import make_people\n",
        "\n",
        "people_bag = make_people(npartitions=1, records_per_partition=1000, seed=None, locale=\"en\")\n",
        "\n",
        "adult_records = people_bag.filter(lambda record: record['age'] >= 18)\n",
        "\n",
        "adult_df = adult_records.to_dataframe()\n",
        "\n",
        "output_path = '/content/adult_people.parquet'\n",
        "adult_df.to_parquet(output_path)\n",
        "\n",
        "loaded_df = dd.read_parquet(output_path)\n",
        "print(\"Loaded DataFrame:\")\n",
        "print(loaded_df.head())"
      ],
      "metadata": {
        "colab": {
          "base_uri": "https://localhost:8080/"
        },
        "id": "_i4AlaeKGdJj",
        "outputId": "a8285237-7e25-4bec-a942-0c9d60c56939"
      },
      "execution_count": 60,
      "outputs": [
        {
          "output_type": "stream",
          "name": "stdout",
          "text": [
            "Loaded DataFrame:\n",
            "   age                    name         occupation        telephone  \\\n",
            "0   71  ('Mitchell', 'Barber')     Telex Operator  +1-831-448-3636   \n",
            "1   52      ('Jordan', 'Rose')    Marine Surveyor  +1-573-094-7354   \n",
            "2   64   ('Hilma', 'Williams')              Vicar  +1-802-254-3801   \n",
            "3   22      ('Minna', 'Berry')         Magistrate  +1-305-890-0447   \n",
            "4   32   ('Marilou', 'Garner')  Aircraft Designer  +1-510-333-3512   \n",
            "\n",
            "                                             address  \\\n",
            "0  {'address': '1140 Alpine Ranch', 'city': 'Asht...   \n",
            "1  {'address': '619 Pioche Ferry', 'city': 'West ...   \n",
            "2  {'address': '1391 Elizabeth Hill', 'city': 'Sh...   \n",
            "3  {'address': '1007 Wagner Center', 'city': 'Myr...   \n",
            "4  {'address': '784 Hillside Cove', 'city': 'Palm...   \n",
            "\n",
            "                                         credit-card  \n",
            "0  {'number': '3460 824746 25978', 'expiration-da...  \n",
            "1  {'number': '4228 6154 7103 5744', 'expiration-...  \n",
            "2  {'number': '4644 0253 8504 8575', 'expiration-...  \n",
            "3  {'number': '2642 7228 6513 8332', 'expiration-...  \n",
            "4  {'number': '4789 7470 7550 6357', 'expiration-...  \n"
          ]
        }
      ]
    }
  ]
}