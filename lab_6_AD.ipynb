{
  "nbformat": 4,
  "nbformat_minor": 0,
  "metadata": {
    "colab": {
      "provenance": []
    },
    "kernelspec": {
      "name": "python3",
      "display_name": "Python 3"
    },
    "language_info": {
      "name": "python"
    }
  },
  "cells": [
    {
      "cell_type": "code",
      "execution_count": 1,
      "metadata": {
        "id": "ueTJs_dEzWqJ"
      },
      "outputs": [],
      "source": [
        "from pyspark.sql import SparkSession\n",
        "\n",
        "spark = SparkSession.builder \\\n",
        "    .master(\"local[*]\") \\\n",
        "    .appName(\"lab6\") \\\n",
        "    .getOrCreate()\n",
        "\n",
        "sc = spark.sparkContext"
      ]
    },
    {
      "cell_type": "code",
      "source": [
        "!wget https://archive.ics.uci.edu/static/public/911/recipe+reviews+and+user+feedback+dataset.zip"
      ],
      "metadata": {
        "colab": {
          "base_uri": "https://localhost:8080/"
        },
        "id": "rAqvHNQ4zjA3",
        "outputId": "f9556600-cf32-4e82-df3f-a399e0dac065"
      },
      "execution_count": 2,
      "outputs": [
        {
          "output_type": "stream",
          "name": "stdout",
          "text": [
            "--2024-11-25 14:51:17--  https://archive.ics.uci.edu/static/public/911/recipe+reviews+and+user+feedback+dataset.zip\n",
            "Resolving archive.ics.uci.edu (archive.ics.uci.edu)... 128.195.10.252\n",
            "Connecting to archive.ics.uci.edu (archive.ics.uci.edu)|128.195.10.252|:443... connected.\n",
            "HTTP request sent, awaiting response... 200 OK\n",
            "Length: unspecified\n",
            "Saving to: ‘recipe+reviews+and+user+feedback+dataset.zip’\n",
            "\n",
            "recipe+reviews+and+     [  <=>               ]   2.02M  9.48MB/s    in 0.2s    \n",
            "\n",
            "2024-11-25 14:51:18 (9.48 MB/s) - ‘recipe+reviews+and+user+feedback+dataset.zip’ saved [2114088]\n",
            "\n"
          ]
        }
      ]
    },
    {
      "cell_type": "code",
      "source": [
        "!ls"
      ],
      "metadata": {
        "colab": {
          "base_uri": "https://localhost:8080/"
        },
        "id": "MSvrKf4Gzk8f",
        "outputId": "296bc915-deca-40b2-91b3-6a556c0516a4"
      },
      "execution_count": 3,
      "outputs": [
        {
          "output_type": "stream",
          "name": "stdout",
          "text": [
            "recipe+reviews+and+user+feedback+dataset.zip  sample_data\n"
          ]
        }
      ]
    },
    {
      "cell_type": "code",
      "source": [
        "!mv recipe+reviews+and+user+feedback+dataset.zip recipe_reviews.zip"
      ],
      "metadata": {
        "id": "b37pcEVAzoIy"
      },
      "execution_count": 4,
      "outputs": []
    },
    {
      "cell_type": "code",
      "source": [
        "import zipfile\n",
        "with zipfile.ZipFile(\"recipe_reviews.zip\", 'r') as zip_ref:\n",
        "    zip_ref.extractall(\"./data\")"
      ],
      "metadata": {
        "id": "uVL98KiDzrNc"
      },
      "execution_count": 5,
      "outputs": []
    },
    {
      "cell_type": "code",
      "source": [
        "df_reviews = spark.read.csv('./data/Recipe Reviews and User Feedback Dataset.csv', header=True, sep=\",\")"
      ],
      "metadata": {
        "id": "4t-axcnVzsN4"
      },
      "execution_count": 6,
      "outputs": []
    },
    {
      "cell_type": "code",
      "source": [
        "df_reviews = df_reviews.withColumnRenamed(\"_c0\", \"id\")\n",
        "df_reviews.show(5)"
      ],
      "metadata": {
        "colab": {
          "base_uri": "https://localhost:8080/"
        },
        "id": "PH9N4NgozzN8",
        "outputId": "bbc7757d-c297-4d96-98af-91a282b14dd6"
      },
      "execution_count": 7,
      "outputs": [
        {
          "output_type": "stream",
          "name": "stdout",
          "text": [
            "+---+-------------+-----------+------------------+--------------------+--------------+----------+---------------+----------+-----------+---------+-----------+-----+----------+--------------------+\n",
            "| id|recipe_number|recipe_code|       recipe_name|          comment_id|       user_id| user_name|user_reputation|created_at|reply_count|thumbs_up|thumbs_down|stars|best_score|                text|\n",
            "+---+-------------+-----------+------------------+--------------------+--------------+----------+---------------+----------+-----------+---------+-----------+-----+----------+--------------------+\n",
            "|  0|          001|      14299|Creamy White Chili|sp_aUSaElGf_14299...|u_9iFLIhMa8QaG|   Jeri326|              1|1665619889|          0|        0|          0|    5|       527|I tweaked it a li...|\n",
            "|  1|          001|      14299|Creamy White Chili|sp_aUSaElGf_14299...|u_Lu6p25tmE77j|   Mark467|             50|1665277687|          0|        7|          0|    5|       724|Bush used to have...|\n",
            "|  2|          001|      14299|Creamy White Chili|sp_aUSaElGf_14299...|u_s0LwgpZ8Jsqq|Barbara566|             10|1664404557|          0|        3|          0|    5|       710|I have a very com...|\n",
            "|  3|          001|      14299|Creamy White Chili|sp_aUSaElGf_14299...|u_fqrybAdYjgjG|jeansch123|              1|1661787808|          2|        2|          0|    0|       581|In your introduct...|\n",
            "|  4|          001|      14299|Creamy White Chili|sp_aUSaElGf_14299...|u_XXWKwVhKZD69|  camper77|             10|1664913823|          1|        7|          0|    0|       820|Wonderful! I made...|\n",
            "+---+-------------+-----------+------------------+--------------------+--------------+----------+---------------+----------+-----------+---------+-----------+-----+----------+--------------------+\n",
            "only showing top 5 rows\n",
            "\n"
          ]
        }
      ]
    },
    {
      "cell_type": "code",
      "source": [
        "df_reviews.orderBy(df_reviews.reply_count.desc()).show(10)"
      ],
      "metadata": {
        "colab": {
          "base_uri": "https://localhost:8080/"
        },
        "id": "ZM1TfI_6z5oK",
        "outputId": "c12ba206-3dac-4e4d-cefe-3e545220ee96"
      },
      "execution_count": 8,
      "outputs": [
        {
          "output_type": "stream",
          "name": "stdout",
          "text": [
            "+---+-------------+-----------+--------------------+--------------------+--------------------+-----------------+---------------+----------+-----------+---------+-----------+-----+----------+--------------------+\n",
            "| id|recipe_number|recipe_code|         recipe_name|          comment_id|             user_id|        user_name|user_reputation|created_at|reply_count|thumbs_up|thumbs_down|stars|best_score|                text|\n",
            "+---+-------------+-----------+--------------------+--------------------+--------------------+-----------------+---------------+----------+-----------+---------+-----------+-----+----------+--------------------+\n",
            "| 17|          002|       3309|Best Ever Banana ...|sp_aUSaElGf_3309_...|u_1tOHujEFJQIEVu0...|     OrangeBowtie|              0|1622648873|          3|        5|          0|    5|       354|The title is not ...|\n",
            "|  8|          003|       2832|   Cheeseburger Soup|sp_aUSaElGf_2832_...|      u_inTFTX8AEJ0X|   ladypenny36619|              1|1659170678|          3|        1|         20|    5|       495|I love this recip...|\n",
            "| 40|          003|       2832|   Cheeseburger Soup|sp_aUSaElGf_2832_...|u_1oKd0xoTyJRTE0q...|                K|              1|1622648880|          3|        6|         41|    0|       127|Just once I&#39;d...|\n",
            "| 43|          003|       2832|   Cheeseburger Soup|sp_aUSaElGf_2832_...|u_1oKd0qIiH6zumOD...|             Elle|              1|1622648880|          3|        4|         61|    2|       110|I made this recip...|\n",
            "|  5|          013|      32480|Basic Homemade Bread|sp_aUSaElGf_32480...|      u_mliuhxCdSTIo|         James626|              1|1655857389|          3|       15|         31|    0|       549|I waited three ho...|\n",
            "|  0|          040|       8431|Rhubarb Custard Bars|sp_aUSaElGf_8431_...|      u_VgdSEmx4XglO|       Frances442|              1|1656521871|          3|        0|          0|    0|       505|Hello, we usually...|\n",
            "|  7|          081|      27626|Skillet Shepherd’...|sp_aUSaElGf_27626...|      u_faZ6tUcsyiHE|          Dale732|              1|1632118219|          2|       13|        104|    0|       335|I am always amaze...|\n",
            "| 22|          001|      14299|  Creamy White Chili|sp_aUSaElGf_14299...|      u_wYANTnDQZ8Ud|         Sandy326|              1|1633371450|          2|        5|          5|    5|       650|Very good!! Easy ...|\n",
            "| 27|          083|       9735|Comforting Chicke...|sp_aUSaElGf_9735_...|u_1oKbxCQrwYGMt3E...|Beverly Kowulich |              1|1622718406|          2|        1|          1|    4|       142|That’s a lot of w...|\n",
            "| 25|          006|      21444|Favorite Chicken ...|sp_aUSaElGf_21444...|u_1tOHukW0cVBCqkC...|          BlueBee|              0|1622648873|          2|       10|         31|    0|       162|A cup of butter a...|\n",
            "+---+-------------+-----------+--------------------+--------------------+--------------------+-----------------+---------------+----------+-----------+---------+-----------+-----+----------+--------------------+\n",
            "only showing top 10 rows\n",
            "\n"
          ]
        }
      ]
    },
    {
      "cell_type": "code",
      "source": [
        "df_reviews.groupBy(\"recipe_code\").agg({\"best_score\": \"sum\"}).orderBy(\"sum(best_score)\", ascending=False).show(10)"
      ],
      "metadata": {
        "colab": {
          "base_uri": "https://localhost:8080/"
        },
        "id": "rOZ-xuARz-w3",
        "outputId": "59b8f714-9323-4452-de7c-e78aaa8121f0"
      },
      "execution_count": 9,
      "outputs": [
        {
          "output_type": "stream",
          "name": "stdout",
          "text": [
            "+-----------+---------------+\n",
            "|recipe_code|sum(best_score)|\n",
            "+-----------+---------------+\n",
            "|       2832|        98863.0|\n",
            "|      14299|        85497.0|\n",
            "|      17826|        64880.0|\n",
            "|       3309|        64247.0|\n",
            "|      21444|        60755.0|\n",
            "|      32480|        59867.0|\n",
            "|      12540|        59195.0|\n",
            "|       2912|        54032.0|\n",
            "|      42083|        51975.0|\n",
            "|      19731|        47905.0|\n",
            "+-----------+---------------+\n",
            "only showing top 10 rows\n",
            "\n"
          ]
        }
      ]
    },
    {
      "cell_type": "code",
      "source": [
        "df_reviews.groupBy(\"recipe_code\").agg({\"reply_count\": \"sum\"}).orderBy(\"sum(reply_count)\", ascending=False).show(10)"
      ],
      "metadata": {
        "colab": {
          "base_uri": "https://localhost:8080/"
        },
        "id": "MTO5gx4f0JVj",
        "outputId": "eed66e78-2855-4d7a-c92f-3e9d4ca49d57"
      },
      "execution_count": 10,
      "outputs": [
        {
          "output_type": "stream",
          "name": "stdout",
          "text": [
            "+-----------+----------------+\n",
            "|recipe_code|sum(reply_count)|\n",
            "+-----------+----------------+\n",
            "|       2832|            16.0|\n",
            "|        414|            13.0|\n",
            "|      32480|            12.0|\n",
            "|      14299|            10.0|\n",
            "|      18345|            10.0|\n",
            "|       8202|             9.0|\n",
            "|      12003|             8.0|\n",
            "|      41095|             8.0|\n",
            "|       1324|             8.0|\n",
            "|       8431|             6.0|\n",
            "+-----------+----------------+\n",
            "only showing top 10 rows\n",
            "\n"
          ]
        }
      ]
    },
    {
      "cell_type": "code",
      "source": [
        "df_reviews.select(\"stars\").groupBy(\"stars\").count().show()"
      ],
      "metadata": {
        "colab": {
          "base_uri": "https://localhost:8080/"
        },
        "id": "ZdF7hTPG0Tk9",
        "outputId": "cf9051e8-42a3-4185-d2d1-15a77106460a"
      },
      "execution_count": 11,
      "outputs": [
        {
          "output_type": "stream",
          "name": "stdout",
          "text": [
            "+-----+-----+\n",
            "|stars|count|\n",
            "+-----+-----+\n",
            "|    3|  490|\n",
            "|    0| 1696|\n",
            "| NULL|   86|\n",
            "|    5|13829|\n",
            "|    1|  280|\n",
            "|    4| 1655|\n",
            "|    2|  232|\n",
            "+-----+-----+\n",
            "\n"
          ]
        }
      ]
    },
    {
      "cell_type": "code",
      "source": [
        "header = ['id', 'firstname', 'lastname', 'age', 'salary']\n",
        "firstnames = ['Adam', 'Katarzyna', 'Krzysztof', 'Marek', 'Aleksandra', 'Zbigniew', 'Wojciech', 'Mieczysław', 'Agata', 'Wisława']\n",
        "lastnames = ['Mieczykowski', 'Kowalski', 'Malinowski' , 'Szczaw', 'Glut', 'Barański', 'Brzęczyszczykiewicz', 'Wróblewski', 'Wlotka', 'Pysla']\n",
        "age = {'min': 18, 'max': 68}\n",
        "salary = {'min': 3200, 'max': 12500}"
      ],
      "metadata": {
        "id": "53dTARu-0rLG"
      },
      "execution_count": 12,
      "outputs": []
    },
    {
      "cell_type": "code",
      "source": [
        "import random\n",
        "from tqdm import tqdm\n",
        "\n",
        "def build_dataset(filename, n_rows=100, chunk_size=100000):\n",
        "    rows = []\n",
        "    rows.append(header)\n",
        "    mu = (salary['max'] + salary['min']) / 2\n",
        "    sigma = 1000\n",
        "\n",
        "    with open(filename, 'w', encoding='utf-8') as filehandler:\n",
        "\n",
        "        for id in tqdm(range(1, n_rows + 1), total=n_rows, desc=\"Building dataset...\"):\n",
        "            row = [\n",
        "                f'{id}',\n",
        "                f'{random.choice(firstnames)}',\n",
        "                f'{random.choice(lastnames)}',\n",
        "                f\"{random.randint(age['min'], age['max'])}\",\n",
        "                f\"{round(float(random.normalvariate(mu=mu, sigma=sigma)), 2)}\"\n",
        "            ]\n",
        "            rows.append(row)\n",
        "            if id % chunk_size == 0:\n",
        "                filehandler.writelines([f\"{','.join(row)}\\n\" for row in rows])\n",
        "                rows = []"
      ],
      "metadata": {
        "id": "FN7-nSaf0rpJ"
      },
      "execution_count": 13,
      "outputs": []
    },
    {
      "cell_type": "code",
      "source": [
        "build_dataset('employee.csv', 5_000_000)"
      ],
      "metadata": {
        "colab": {
          "base_uri": "https://localhost:8080/"
        },
        "id": "Yy-nxIHV0uYo",
        "outputId": "e3d5608a-c6af-41ff-96bc-156d1b4a066c"
      },
      "execution_count": 14,
      "outputs": [
        {
          "output_type": "stream",
          "name": "stderr",
          "text": [
            "Building dataset...: 100%|██████████| 5000000/5000000 [00:40<00:00, 124319.67it/s]\n"
          ]
        }
      ]
    },
    {
      "cell_type": "code",
      "source": [
        "%%time\n",
        "df = spark.read.csv('employee.csv', header=True, inferSchema=True)\n",
        "df.printSchema()"
      ],
      "metadata": {
        "colab": {
          "base_uri": "https://localhost:8080/"
        },
        "id": "JQ5hFo0E01j7",
        "outputId": "c0baa1f4-604f-4a95-cada-baaa447b9c53"
      },
      "execution_count": 15,
      "outputs": [
        {
          "output_type": "stream",
          "name": "stdout",
          "text": [
            "root\n",
            " |-- id: integer (nullable = true)\n",
            " |-- firstname: string (nullable = true)\n",
            " |-- lastname: string (nullable = true)\n",
            " |-- age: integer (nullable = true)\n",
            " |-- salary: double (nullable = true)\n",
            "\n",
            "CPU times: user 92.3 ms, sys: 9.46 ms, total: 102 ms\n",
            "Wall time: 15.3 s\n"
          ]
        }
      ]
    },
    {
      "cell_type": "code",
      "source": [
        "%%time\n",
        "df.filter(df[\"salary\"] > 10000).count()"
      ],
      "metadata": {
        "colab": {
          "base_uri": "https://localhost:8080/"
        },
        "id": "BMNzIDTg19kR",
        "outputId": "b60cafe1-b9f7-41ec-fcf9-f5eebb5e00ad"
      },
      "execution_count": 16,
      "outputs": [
        {
          "output_type": "stream",
          "name": "stdout",
          "text": [
            "CPU times: user 66.6 ms, sys: 3.23 ms, total: 69.8 ms\n",
            "Wall time: 11.1 s\n"
          ]
        },
        {
          "output_type": "execute_result",
          "data": {
            "text/plain": [
              "79452"
            ]
          },
          "metadata": {},
          "execution_count": 16
        }
      ]
    },
    {
      "cell_type": "code",
      "source": [
        "from pyspark.sql.functions import col\n",
        "df = df.withColumn(\"salary\", col(\"salary\").cast(\"decimal(10,2)\"))"
      ],
      "metadata": {
        "id": "on6RO84E1WGl"
      },
      "execution_count": 17,
      "outputs": []
    },
    {
      "cell_type": "code",
      "source": [
        "%%time\n",
        "df.filter(df[\"salary\"] > 10000).count()"
      ],
      "metadata": {
        "colab": {
          "base_uri": "https://localhost:8080/"
        },
        "id": "BA2M-Vyr18ZU",
        "outputId": "eb054ed5-eb17-4ec9-9754-916f5b6c257b"
      },
      "execution_count": 18,
      "outputs": [
        {
          "output_type": "stream",
          "name": "stdout",
          "text": [
            "CPU times: user 76.9 ms, sys: 4.31 ms, total: 81.2 ms\n",
            "Wall time: 12.5 s\n"
          ]
        },
        {
          "output_type": "execute_result",
          "data": {
            "text/plain": [
              "79452"
            ]
          },
          "metadata": {},
          "execution_count": 18
        }
      ]
    },
    {
      "cell_type": "code",
      "source": [
        "from pyspark.ml.feature import Bucketizer\n",
        "\n",
        "splits = [10, 20, 30, 40, 50, 60, 70]\n",
        "bucketizer = Bucketizer(splits=splits, inputCol=\"age\", outputCol=\"age_bucket\")\n",
        "\n",
        "df_with_buckets = bucketizer.transform(df)\n",
        "df_with_buckets.show(20)"
      ],
      "metadata": {
        "colab": {
          "base_uri": "https://localhost:8080/"
        },
        "id": "Kvouh9Gu2HQ9",
        "outputId": "dc201629-43bf-4e01-a5c0-990db7d216df"
      },
      "execution_count": 19,
      "outputs": [
        {
          "output_type": "stream",
          "name": "stdout",
          "text": [
            "+---+----------+-------------------+---+-------+----------+\n",
            "| id| firstname|           lastname|age| salary|age_bucket|\n",
            "+---+----------+-------------------+---+-------+----------+\n",
            "|  1|     Agata|           Kowalski| 33|7016.12|       2.0|\n",
            "|  2|     Agata|             Szczaw| 37|9162.18|       2.0|\n",
            "|  3|      Adam|             Szczaw| 51|7497.92|       4.0|\n",
            "|  4|  Wojciech|         Wróblewski| 21|7709.72|       1.0|\n",
            "|  5|Aleksandra|              Pysla| 44|7644.78|       3.0|\n",
            "|  6|   Wisława|Brzęczyszczykiewicz| 63|5937.37|       5.0|\n",
            "|  7|     Agata|         Malinowski| 26|8525.23|       1.0|\n",
            "|  8|     Agata|              Pysla| 24|8427.28|       1.0|\n",
            "|  9| Krzysztof|       Mieczykowski| 57|7966.37|       4.0|\n",
            "| 10|   Wisława|             Szczaw| 23|8301.28|       1.0|\n",
            "| 11| Krzysztof|             Szczaw| 29|8131.70|       1.0|\n",
            "| 12|Mieczysław|           Kowalski| 53|7815.40|       4.0|\n",
            "| 13|  Wojciech|               Glut| 37|7933.12|       2.0|\n",
            "| 14|      Adam|         Malinowski| 65|6893.47|       5.0|\n",
            "| 15|  Wojciech|         Malinowski| 27|8423.52|       1.0|\n",
            "| 16|Mieczysław|Brzęczyszczykiewicz| 25|8277.07|       1.0|\n",
            "| 17|  Zbigniew|             Wlotka| 56|6473.98|       4.0|\n",
            "| 18|     Marek|             Wlotka| 37|6924.24|       2.0|\n",
            "| 19|  Zbigniew|             Szczaw| 36|7673.87|       2.0|\n",
            "| 20| Katarzyna|       Mieczykowski| 68|7183.41|       5.0|\n",
            "+---+----------+-------------------+---+-------+----------+\n",
            "only showing top 20 rows\n",
            "\n"
          ]
        }
      ]
    },
    {
      "cell_type": "code",
      "source": [
        "df_with_buckets.groupBy(\"age_bucket\").count().show()"
      ],
      "metadata": {
        "colab": {
          "base_uri": "https://localhost:8080/"
        },
        "id": "HP06SGJO2Wnh",
        "outputId": "e9054394-17b1-4079-b257-35d2c469f642"
      },
      "execution_count": 20,
      "outputs": [
        {
          "output_type": "stream",
          "name": "stdout",
          "text": [
            "+----------+------+\n",
            "|age_bucket| count|\n",
            "+----------+------+\n",
            "|       0.0|195398|\n",
            "|       1.0|980538|\n",
            "|       4.0|980220|\n",
            "|       3.0|980931|\n",
            "|       2.0|980093|\n",
            "|       5.0|882820|\n",
            "+----------+------+\n",
            "\n"
          ]
        }
      ]
    }
  ]
}